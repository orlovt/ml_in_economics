{
 "cells": [
  {
   "cell_type": "code",
   "execution_count": 189,
   "metadata": {},
   "outputs": [],
   "source": [
    "import numpy as np"
   ]
  },
  {
   "cell_type": "markdown",
   "metadata": {},
   "source": [
    "### Assignment 1 (1 point): Prove the equivalence of the two approaches, that is, $\\hat \\beta$ would be the same if we redefine\n",
    "\n",
    "For different values of $y_i$, for example $y_{CS} \\in \\{-1,1\\}$ or $y_{ECON} \\in \\{0,1\\}$, the result of corresponding functions  $\\mathcal{L_{CS}}=\\prod F^{\\frac{1+y_i}{2}}(\\beta' x_i /\\sigma) \\cdot (1-F(\\beta' x_i /\\sigma))^{\\frac{1-y_i}{2}}$ for $y_{CS} \\in \\{-1, 1\\}$ and $\\mathcal{L_{ECON}}=\\prod F^{y_i}(\\beta' x_i /\\sigma) \\cdot (1-F(\\beta' x_i /\\sigma))^{1-y_i}$ for $y_{ECON} \\in \\{0, 1\\}$ will be the same, because if $y_{CS} \\in \\{-1,1\\}$ is inserted into $\\frac{1+y_i}{2}$ it will produce such results, that $y_{CS}' \\in \\{0,1\\}$, where $y_{CS}'$ is a transformed value of $y_{CS}$, this means that both functions will produce same $\\hat \\beta_{CS} $ and $\\hat \\beta \n",
    "_{ECON}$"
   ]
  },
  {
   "cell_type": "markdown",
   "metadata": {},
   "source": [
    "### Assignment 2 (1 point): Find and fix the error in the code above"
   ]
  },
  {
   "cell_type": "code",
   "execution_count": 354,
   "metadata": {},
   "outputs": [],
   "source": [
    "def OLS_loss(Y, X, beta, a, b):\n",
    "    z = Y - X@beta\n",
    "    return z@z.T.sum()/(2*Y.size) + a*np.abs(beta).sum() + b*np.square(beta).sum()\n",
    "\n",
    "def LGT_loss(Y, X, beta, a, b):\n",
    "    z = -Y*X@beta\n",
    "    o = np.ones(Y.size)\n",
    "    return np.logaddexp(o, z).sum() + a*np.abs(beta).sum() + b*np.square(beta).sum()/2"
   ]
  },
  {
   "cell_type": "markdown",
   "metadata": {},
   "source": [
    "### Assignment 3 (3 point): Write your own logistic regression that replicates the output of the function below"
   ]
  },
  {
   "cell_type": "code",
   "execution_count": null,
   "metadata": {},
   "outputs": [],
   "source": []
  }
 ],
 "metadata": {
  "kernelspec": {
   "display_name": "Python 3",
   "language": "python",
   "name": "python3"
  },
  "language_info": {
   "codemirror_mode": {
    "name": "ipython",
    "version": 3
   },
   "file_extension": ".py",
   "mimetype": "text/x-python",
   "name": "python",
   "nbconvert_exporter": "python",
   "pygments_lexer": "ipython3",
   "version": "3.8.5"
  }
 },
 "nbformat": 4,
 "nbformat_minor": 4
}
