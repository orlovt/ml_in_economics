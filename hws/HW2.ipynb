{
 "cells": [
  {
   "cell_type": "code",
   "execution_count": 2,
   "metadata": {},
   "outputs": [],
   "source": [
    "import statsmodels.api as sm\n",
    "import scipy as sp\n",
    "import scipy.linalg as spla\n",
    "import scipy.optimize as spopt\n",
    "import scipy.stats as spst\n",
    "import numpy as np\n",
    "import numpy.linalg as npla\n",
    "import pandas as pd\n",
    "from scipy.stats.distributions import t\n",
    "from scipy.optimize import fmin, minimize\n",
    "import matplotlib.pyplot as plt\n",
    "from sklearn.model_selection import KFold"
   ]
  },
  {
   "cell_type": "code",
   "execution_count": 3,
   "metadata": {},
   "outputs": [],
   "source": [
    "dat = sm.datasets.get_rdataset(\"Guerry\", \"HistData\").data"
   ]
  },
  {
   "cell_type": "markdown",
   "metadata": {},
   "source": [
    "### Assignment 1 (2 points).\n",
    "Write a function assignment_1 that replicates the outcome of assignment_1_true on the *dat* dataset from the beginning of the notebook"
   ]
  },
  {
   "cell_type": "code",
   "execution_count": 15,
   "metadata": {},
   "outputs": [],
   "source": [
    "smfOLS = sm.regression.linear_model.OLS.from_formula\n",
    "def assignment_1_true(formula, data):\n",
    "    \n",
    "    fit = smfOLS(formula, data = data).fit()\n",
    "    \n",
    "    return fit.conf_int()"
   ]
  },
  {
   "cell_type": "code",
   "execution_count": 3,
   "metadata": {},
   "outputs": [
    {
     "data": {
      "text/html": [
       "<div>\n",
       "<style scoped>\n",
       "    .dataframe tbody tr th:only-of-type {\n",
       "        vertical-align: middle;\n",
       "    }\n",
       "\n",
       "    .dataframe tbody tr th {\n",
       "        vertical-align: top;\n",
       "    }\n",
       "\n",
       "    .dataframe thead th {\n",
       "        text-align: right;\n",
       "    }\n",
       "</style>\n",
       "<table border=\"1\" class=\"dataframe\">\n",
       "  <thead>\n",
       "    <tr style=\"text-align: right;\">\n",
       "      <th></th>\n",
       "      <th>0</th>\n",
       "      <th>1</th>\n",
       "    </tr>\n",
       "  </thead>\n",
       "  <tbody>\n",
       "    <tr>\n",
       "      <th>Intercept</th>\n",
       "      <td>-6.027</td>\n",
       "      <td>41.047</td>\n",
       "    </tr>\n",
       "    <tr>\n",
       "      <th>Literacy</th>\n",
       "      <td>-0.479</td>\n",
       "      <td>0.180</td>\n",
       "    </tr>\n",
       "    <tr>\n",
       "      <th>Donations</th>\n",
       "      <td>-0.001</td>\n",
       "      <td>0.001</td>\n",
       "    </tr>\n",
       "    <tr>\n",
       "      <th>Infants</th>\n",
       "      <td>-0.000</td>\n",
       "      <td>0.001</td>\n",
       "    </tr>\n",
       "    <tr>\n",
       "      <th>Wealth</th>\n",
       "      <td>0.096</td>\n",
       "      <td>0.517</td>\n",
       "    </tr>\n",
       "    <tr>\n",
       "      <th>Commerce</th>\n",
       "      <td>-0.101</td>\n",
       "      <td>0.405</td>\n",
       "    </tr>\n",
       "  </tbody>\n",
       "</table>\n",
       "</div>"
      ],
      "text/plain": [
       "               0       1\n",
       "Intercept -6.027  41.047\n",
       "Literacy  -0.479   0.180\n",
       "Donations -0.001   0.001\n",
       "Infants   -0.000   0.001\n",
       "Wealth     0.096   0.517\n",
       "Commerce  -0.101   0.405"
      ]
     },
     "execution_count": 3,
     "metadata": {},
     "output_type": "execute_result"
    }
   ],
   "source": [
    "def assignment_1(formula, data):\n",
    "    ycolumn = formula.split(' ~ ')[0]\n",
    "    xcolumns = formula.split(' ~ ')[1].split(' + ')\n",
    "    Y = data[ycolumn].values\n",
    "    X = data[xcolumns].values\n",
    "    X = sm.add_constant(X)\n",
    "    #coeffs\n",
    "    betas = spla.inv(X.T@X)@(X.T@Y)\n",
    "    #sigma squared\n",
    "    sigma2 = sum((Y - X@betas)**2)/(len(Y)-6)\n",
    "    #covs\n",
    "    covs = sigma2*spla.inv(X.T@X)\n",
    "    #standart errors \n",
    "    se = np.sqrt(np.diag(covs))\n",
    "    #z_value for aplha = 5%\n",
    "    alpha = 0.05 \n",
    "    z = t.ppf(1 - alpha/2, len(X)-len(betas))\n",
    "    results = np.round([[betas[i]-z*se[i], betas[i]+z*se[i]] for i in range(len(betas))], 3)\n",
    "    \n",
    "    df = pd.DataFrame(results, columns = [0,1])\n",
    "    df.index = np.array(['Intercept'] + xcolumns)\n",
    "    \n",
    "    return df\n",
    "assignment_1('Lottery ~ Literacy + Donations + Infants + Wealth + Commerce', dat)"
   ]
  },
  {
   "cell_type": "markdown",
   "metadata": {},
   "source": [
    "### Assignment 2 (3 points).\n",
    "- Write a function that finds the coefficients for the **elastic net** regularized ols with coefficients $\\lambda$ and $\\mu$ of your choice\n",
    "- This time you do not need to find the standard errors"
   ]
  },
  {
   "cell_type": "markdown",
   "metadata": {},
   "source": [
    "$$L = ||Y - X \\beta ||^2 + \\lambda ||\\beta||^2 + \\mu |\\beta|_0\\to \\min$$."
   ]
  },
  {
   "cell_type": "code",
   "execution_count": 4,
   "metadata": {},
   "outputs": [
    {
     "data": {
      "text/html": [
       "<div>\n",
       "<style scoped>\n",
       "    .dataframe tbody tr th:only-of-type {\n",
       "        vertical-align: middle;\n",
       "    }\n",
       "\n",
       "    .dataframe tbody tr th {\n",
       "        vertical-align: top;\n",
       "    }\n",
       "\n",
       "    .dataframe thead th {\n",
       "        text-align: right;\n",
       "    }\n",
       "</style>\n",
       "<table border=\"1\" class=\"dataframe\">\n",
       "  <thead>\n",
       "    <tr style=\"text-align: right;\">\n",
       "      <th></th>\n",
       "      <th>0</th>\n",
       "    </tr>\n",
       "  </thead>\n",
       "  <tbody>\n",
       "    <tr>\n",
       "      <th>Intercept</th>\n",
       "      <td>10.46</td>\n",
       "    </tr>\n",
       "    <tr>\n",
       "      <th>Literacy</th>\n",
       "      <td>-0.07</td>\n",
       "    </tr>\n",
       "    <tr>\n",
       "      <th>Donations</th>\n",
       "      <td>0.00</td>\n",
       "    </tr>\n",
       "    <tr>\n",
       "      <th>Infants</th>\n",
       "      <td>0.00</td>\n",
       "    </tr>\n",
       "    <tr>\n",
       "      <th>Wealth</th>\n",
       "      <td>0.31</td>\n",
       "    </tr>\n",
       "    <tr>\n",
       "      <th>Commerce</th>\n",
       "      <td>0.19</td>\n",
       "    </tr>\n",
       "  </tbody>\n",
       "</table>\n",
       "</div>"
      ],
      "text/plain": [
       "               0\n",
       "Intercept  10.46\n",
       "Literacy   -0.07\n",
       "Donations   0.00\n",
       "Infants     0.00\n",
       "Wealth      0.31\n",
       "Commerce    0.19"
      ]
     },
     "execution_count": 4,
     "metadata": {},
     "output_type": "execute_result"
    }
   ],
   "source": [
    "def assignment_2(formula, data, mu, lamda):\n",
    "    ycolumn = formula.split(' ~ ')[0]\n",
    "    xcolumns = formula.split(' ~ ')[1].split(' + ')\n",
    "    Y = data[ycolumn].values\n",
    "    X = data[xcolumns].values\n",
    "    X = sm.add_constant(X)\n",
    "    covs = 6\n",
    "    def loss(Y, X, beta):\n",
    "        z = Y - X@beta\n",
    "        return z@z.T + lamda*(beta@beta.T) + mu*sum(np.ones(covs)*beta)\n",
    "    bounds = [(None, None)]*covs\n",
    "    beta = np.round(spopt.shgo(lambda b: loss(Y, X, b), bounds).x, 2)    \n",
    "    \n",
    "    df = pd.DataFrame(beta, columns = [0])\n",
    "    df.index = np.array(['Intercept'] + xcolumns)\n",
    "    \n",
    "    return df\n",
    "\n",
    "assignment_2('Lottery ~ Literacy + Donations + Infants + Wealth + Commerce', dat, 2, 2)"
   ]
  },
  {
   "cell_type": "markdown",
   "metadata": {},
   "source": [
    "### Assignment 3 (5 points)\n",
    "- Write a function that finds the coefficients for the **elastic net** regularized ols with crossvalidation\n",
    "- Use number of folds of your choice\n",
    "- You do not need to find the standard errors\n",
    "- Search for $\\lambda$, $\\mu$ in the range [0,5]x[0,5]"
   ]
  },
  {
   "cell_type": "code",
   "execution_count": 11,
   "metadata": {},
   "outputs": [
    {
     "data": {
      "text/plain": [
       "(               0\n",
       " Intercept  17.51\n",
       " Literacy   -0.15\n",
       " Donations   0.00\n",
       " Infants     0.00\n",
       " Wealth      0.31\n",
       " Commerce    0.15,\n",
       " [0.7575757575757576, 3.3333333333333335, 606.2610699999999])"
      ]
     },
     "execution_count": 11,
     "metadata": {},
     "output_type": "execute_result"
    }
   ],
   "source": [
    "def assignment_3(formula, data, folds):\n",
    "    ycolumn = formula.split(' ~ ')[0]\n",
    "    xcolumns = formula.split(' ~ ')[1].split(' + ')\n",
    "    Y = data[ycolumn].values\n",
    "    X = data[xcolumns].values\n",
    "    X = sm.add_constant(X)\n",
    "#K folds \n",
    "    kf = KFold(n_splits=folds)\n",
    "#Lambd's and Mu's\n",
    "    ls = np.linspace(0,5,100)\n",
    "    ms = np.linspace(0,5,100)\n",
    "    covs = 6\n",
    "#define loss functions for elastic net\n",
    "    def loss(Y, X, beta, lamda, mu):\n",
    "            covs = 6\n",
    "            z = Y - X@beta\n",
    "            return z@z.T + lamda*(beta@beta.T) + mu*sum(np.ones(covs)*beta)\n",
    "    def run(lamda, mu):\n",
    "        avg = 0\n",
    "        \n",
    "        #split in 5 kfolds\n",
    "        for train_index, test_index in kf.split(X):\n",
    "            X_train, X_test = X[train_index], X[test_index]\n",
    "            y_train, y_test = Y[train_index], Y[test_index]\n",
    "        #compute betas vector\n",
    "            \n",
    "            bounds = [(None, None)] * covs \n",
    "            beta = np.round(spopt.shgo(lambda B: loss(y_train, X_train, B, lamda, mu), bounds).x, 2)\n",
    "        #compute sum of squared residuals \n",
    "            errs = y_test - X_test@beta\n",
    "            SSR = errs@errs.T\n",
    "            avg += SSR\n",
    "        return SSR/folds\n",
    "    vals = []\n",
    "    for l in ls:\n",
    "        for m in ms:\n",
    "            ssr = run(l, m)\n",
    "            vals.append([l, m, ssr])\n",
    "    min_L_Mu_SSR = vals[np.array(vals).argmin(0)[-1]]\n",
    "    bounds = [(None, None)] * covs \n",
    "    beta = np.round(spopt.shgo(lambda B: loss(Y, X, B, 0,0), bounds).x, 2)\n",
    "        \n",
    "    df = pd.DataFrame(beta, columns = [0])\n",
    "    df.index = np.array(['Intercept'] + xcolumns)\n",
    "\n",
    "    \n",
    "    return df, min_L_Mu_SSR\n",
    "assignment_3('Lottery ~ Literacy + Donations + Infants + Wealth + Commerce', dat, 10)"
   ]
  },
  {
   "cell_type": "code",
   "execution_count": null,
   "metadata": {},
   "outputs": [],
   "source": []
  }
 ],
 "metadata": {
  "kernelspec": {
   "display_name": "Python 3",
   "language": "python",
   "name": "python3"
  },
  "language_info": {
   "codemirror_mode": {
    "name": "ipython",
    "version": 3
   },
   "file_extension": ".py",
   "mimetype": "text/x-python",
   "name": "python",
   "nbconvert_exporter": "python",
   "pygments_lexer": "ipython3",
   "version": "3.8.5"
  }
 },
 "nbformat": 4,
 "nbformat_minor": 4
}
