{
 "cells": [
  {
   "cell_type": "code",
   "execution_count": 2,
   "metadata": {},
   "outputs": [],
   "source": [
    "import scipy as sp\n",
    "import scipy.linalg as spla\n",
    "import scipy.optimize as spopt\n",
    "import scipy.stats as spst\n",
    "from sklearn.linear_model import LogisticRegressionCV\n",
    "\n",
    "\n",
    "import numpy as np\n",
    "import numpy.linalg as npla\n",
    "\n",
    "import statsmodels as sm\n",
    "import statsmodels.api as sma\n",
    "smfOLS = sma.regression.linear_model.OLS.from_formula\n",
    "smfLGT = sm.discrete.discrete_model.Logit.from_formula\n",
    "from statsmodels.graphics.mosaicplot import mosaic\n",
    "\n",
    "import seaborn as sns\n",
    "sns.set(style='darkgrid')\n",
    "import pandas as pd\n",
    "\n",
    "import matplotlib.pyplot as plt\n",
    "\n",
    "from inspect import signature as sig\n",
    "import pandas as pd\n",
    "\n",
    "#model = smfLGT(\"threat_level ~ age + gender + race + signs_of_mental_illness + flee + body_camera\", data=df)\n",
    "#model.fit().summary()"
   ]
  },
  {
   "cell_type": "markdown",
   "metadata": {},
   "source": [
    "# Part 1\n",
    "# Preparing of the data:"
   ]
  },
  {
   "cell_type": "code",
   "execution_count": 3,
   "metadata": {},
   "outputs": [],
   "source": [
    "df = pd.read_csv('shootings.csv', sep=',')\n",
    "df['threat_level'].replace('attack', 1 , inplace=True)\n",
    "df['threat_level'].replace('undetermined', 0, inplace=True)\n",
    "df['threat_level'].replace('other', 0, inplace=True)\n",
    "df['age'] = df['age'].round(0).astype(int)"
   ]
  },
  {
   "cell_type": "code",
   "execution_count": 4,
   "metadata": {},
   "outputs": [],
   "source": [
    "Guns = ['Guns']\n",
    "Cold = ['Sharp objects', 'Piercing objects']\n",
    "Unarmed = ['Unarmed']\n",
    "Other = ['Unknown', 'Other unusual objects', 'Blunt instruments', 'Vehicles', 'Multiple', 'Electrical devices', 'Explosives', 'Hand tools']\n",
    "\n",
    "def rename_arms(row):\n",
    "    if row['arms_category'] in Guns: \n",
    "        return 'Guns'\n",
    "    if row['arms_category'] in Cold: \n",
    "        return 'Cold'\n",
    "    if row['arms_category'] in Other: \n",
    "        return 'Other'\n",
    "    if row['arms_category'] in Unarmed: \n",
    "        return 'Unarmed'\n",
    "    \n",
    "# info from: https://www.270towin.com/content/blue-and-red-states\n",
    "Blue = ['CA', 'OR', 'WA', 'MN', 'IL', 'NY', 'VT', 'ME', 'MA', 'RI', 'CT', 'NJ', 'DE', 'MD', 'DC', 'HI']\n",
    "Red = ['AK', 'MT', 'ID', 'WY', 'UT', 'NE', 'ND', 'ST', 'KS', 'OK', 'TX', 'MO', 'AR', 'LA', 'MS', 'AL', 'TN',  'KY', 'WV', 'SC']\n",
    "Swing = ['NV', 'AZ', 'NM', 'CO', 'IA', 'WI', 'MI', 'IN', 'OH', 'PA', 'NH', 'VA', 'NC', 'GA', 'FL']\n",
    "def rename_states(row):\n",
    "    if row['state'] in Blue: \n",
    "        return 'Blue'\n",
    "    if row['state'] in Red: \n",
    "        return 'Red'\n",
    "    if row['state'] in Swing: \n",
    "        return 'Swing'"
   ]
  },
  {
   "cell_type": "code",
   "execution_count": 5,
   "metadata": {},
   "outputs": [],
   "source": [
    "df['a_type'] = df.apply(lambda x: rename_arms(x), axis = 1)\n",
    "df['s_type'] = df.apply(lambda x: rename_states(x), axis = 1)"
   ]
  },
  {
   "cell_type": "code",
   "execution_count": 6,
   "metadata": {},
   "outputs": [
    {
     "data": {
      "text/plain": [
       "Swing    1827\n",
       "Red      1627\n",
       "Blue     1427\n",
       "Name: s_type, dtype: int64"
      ]
     },
     "execution_count": 6,
     "metadata": {},
     "output_type": "execute_result"
    }
   ],
   "source": [
    "df['s_type'].value_counts()"
   ]
  },
  {
   "cell_type": "code",
   "execution_count": 7,
   "metadata": {},
   "outputs": [],
   "source": [
    "df = df.drop(['manner_of_death', 'flee'], axis=1)"
   ]
  },
  {
   "cell_type": "code",
   "execution_count": 8,
   "metadata": {},
   "outputs": [
    {
     "data": {
      "text/html": [
       "<div>\n",
       "<style scoped>\n",
       "    .dataframe tbody tr th:only-of-type {\n",
       "        vertical-align: middle;\n",
       "    }\n",
       "\n",
       "    .dataframe tbody tr th {\n",
       "        vertical-align: top;\n",
       "    }\n",
       "\n",
       "    .dataframe thead th {\n",
       "        text-align: right;\n",
       "    }\n",
       "</style>\n",
       "<table border=\"1\" class=\"dataframe\">\n",
       "  <thead>\n",
       "    <tr style=\"text-align: right;\">\n",
       "      <th></th>\n",
       "      <th>gender</th>\n",
       "      <th>race</th>\n",
       "      <th>signs_of_mental_illness</th>\n",
       "      <th>body_camera</th>\n",
       "      <th>a_type</th>\n",
       "      <th>s_type</th>\n",
       "    </tr>\n",
       "  </thead>\n",
       "  <tbody>\n",
       "    <tr>\n",
       "      <th>0</th>\n",
       "      <td>M</td>\n",
       "      <td>Asian</td>\n",
       "      <td>True</td>\n",
       "      <td>False</td>\n",
       "      <td>Guns</td>\n",
       "      <td>Blue</td>\n",
       "    </tr>\n",
       "    <tr>\n",
       "      <th>1</th>\n",
       "      <td>M</td>\n",
       "      <td>White</td>\n",
       "      <td>False</td>\n",
       "      <td>False</td>\n",
       "      <td>Guns</td>\n",
       "      <td>Blue</td>\n",
       "    </tr>\n",
       "    <tr>\n",
       "      <th>2</th>\n",
       "      <td>M</td>\n",
       "      <td>Hispanic</td>\n",
       "      <td>False</td>\n",
       "      <td>False</td>\n",
       "      <td>Unarmed</td>\n",
       "      <td>Red</td>\n",
       "    </tr>\n",
       "    <tr>\n",
       "      <th>3</th>\n",
       "      <td>M</td>\n",
       "      <td>White</td>\n",
       "      <td>True</td>\n",
       "      <td>False</td>\n",
       "      <td>Other</td>\n",
       "      <td>Blue</td>\n",
       "    </tr>\n",
       "    <tr>\n",
       "      <th>4</th>\n",
       "      <td>M</td>\n",
       "      <td>Hispanic</td>\n",
       "      <td>False</td>\n",
       "      <td>False</td>\n",
       "      <td>Cold</td>\n",
       "      <td>Swing</td>\n",
       "    </tr>\n",
       "  </tbody>\n",
       "</table>\n",
       "</div>"
      ],
      "text/plain": [
       "  gender      race  signs_of_mental_illness  body_camera   a_type s_type\n",
       "0      M     Asian                     True        False     Guns   Blue\n",
       "1      M     White                    False        False     Guns   Blue\n",
       "2      M  Hispanic                    False        False  Unarmed    Red\n",
       "3      M     White                     True        False    Other   Blue\n",
       "4      M  Hispanic                    False        False     Cold  Swing"
      ]
     },
     "execution_count": 8,
     "metadata": {},
     "output_type": "execute_result"
    }
   ],
   "source": [
    "X = df.copy()\n",
    "del X['name'],X['age'], X['date'], X['id'], X['arms_category'], X['state'], X['city'], X['armed']#, X['manner_of_death']\n",
    "X = X.dropna()\n",
    "y = X['threat_level']\n",
    "X = X.drop(['threat_level'], axis=1)\n",
    "X.head()"
   ]
  },
  {
   "cell_type": "markdown",
   "metadata": {},
   "source": [
    "# Part 2 \n",
    "\n",
    "# Descriptive analysis of the data"
   ]
  },
  {
   "cell_type": "markdown",
   "metadata": {},
   "source": [
    "### Let's firstly overview the dataset"
   ]
  },
  {
   "cell_type": "code",
   "execution_count": 9,
   "metadata": {},
   "outputs": [
    {
     "data": {
      "text/html": [
       "<div>\n",
       "<style scoped>\n",
       "    .dataframe tbody tr th:only-of-type {\n",
       "        vertical-align: middle;\n",
       "    }\n",
       "\n",
       "    .dataframe tbody tr th {\n",
       "        vertical-align: top;\n",
       "    }\n",
       "\n",
       "    .dataframe thead th {\n",
       "        text-align: right;\n",
       "    }\n",
       "</style>\n",
       "<table border=\"1\" class=\"dataframe\">\n",
       "  <thead>\n",
       "    <tr style=\"text-align: right;\">\n",
       "      <th></th>\n",
       "      <th>id</th>\n",
       "      <th>name</th>\n",
       "      <th>date</th>\n",
       "      <th>armed</th>\n",
       "      <th>age</th>\n",
       "      <th>gender</th>\n",
       "      <th>race</th>\n",
       "      <th>city</th>\n",
       "      <th>state</th>\n",
       "      <th>signs_of_mental_illness</th>\n",
       "      <th>threat_level</th>\n",
       "      <th>body_camera</th>\n",
       "      <th>arms_category</th>\n",
       "      <th>a_type</th>\n",
       "      <th>s_type</th>\n",
       "    </tr>\n",
       "  </thead>\n",
       "  <tbody>\n",
       "    <tr>\n",
       "      <th>0</th>\n",
       "      <td>3</td>\n",
       "      <td>Tim Elliot</td>\n",
       "      <td>2015-01-02</td>\n",
       "      <td>gun</td>\n",
       "      <td>53</td>\n",
       "      <td>M</td>\n",
       "      <td>Asian</td>\n",
       "      <td>Shelton</td>\n",
       "      <td>WA</td>\n",
       "      <td>True</td>\n",
       "      <td>1</td>\n",
       "      <td>False</td>\n",
       "      <td>Guns</td>\n",
       "      <td>Guns</td>\n",
       "      <td>Blue</td>\n",
       "    </tr>\n",
       "    <tr>\n",
       "      <th>1</th>\n",
       "      <td>4</td>\n",
       "      <td>Lewis Lee Lembke</td>\n",
       "      <td>2015-01-02</td>\n",
       "      <td>gun</td>\n",
       "      <td>47</td>\n",
       "      <td>M</td>\n",
       "      <td>White</td>\n",
       "      <td>Aloha</td>\n",
       "      <td>OR</td>\n",
       "      <td>False</td>\n",
       "      <td>1</td>\n",
       "      <td>False</td>\n",
       "      <td>Guns</td>\n",
       "      <td>Guns</td>\n",
       "      <td>Blue</td>\n",
       "    </tr>\n",
       "    <tr>\n",
       "      <th>2</th>\n",
       "      <td>5</td>\n",
       "      <td>John Paul Quintero</td>\n",
       "      <td>2015-01-03</td>\n",
       "      <td>unarmed</td>\n",
       "      <td>23</td>\n",
       "      <td>M</td>\n",
       "      <td>Hispanic</td>\n",
       "      <td>Wichita</td>\n",
       "      <td>KS</td>\n",
       "      <td>False</td>\n",
       "      <td>0</td>\n",
       "      <td>False</td>\n",
       "      <td>Unarmed</td>\n",
       "      <td>Unarmed</td>\n",
       "      <td>Red</td>\n",
       "    </tr>\n",
       "    <tr>\n",
       "      <th>3</th>\n",
       "      <td>8</td>\n",
       "      <td>Matthew Hoffman</td>\n",
       "      <td>2015-01-04</td>\n",
       "      <td>toy weapon</td>\n",
       "      <td>32</td>\n",
       "      <td>M</td>\n",
       "      <td>White</td>\n",
       "      <td>San Francisco</td>\n",
       "      <td>CA</td>\n",
       "      <td>True</td>\n",
       "      <td>1</td>\n",
       "      <td>False</td>\n",
       "      <td>Other unusual objects</td>\n",
       "      <td>Other</td>\n",
       "      <td>Blue</td>\n",
       "    </tr>\n",
       "    <tr>\n",
       "      <th>4</th>\n",
       "      <td>9</td>\n",
       "      <td>Michael Rodriguez</td>\n",
       "      <td>2015-01-04</td>\n",
       "      <td>nail gun</td>\n",
       "      <td>39</td>\n",
       "      <td>M</td>\n",
       "      <td>Hispanic</td>\n",
       "      <td>Evans</td>\n",
       "      <td>CO</td>\n",
       "      <td>False</td>\n",
       "      <td>1</td>\n",
       "      <td>False</td>\n",
       "      <td>Piercing objects</td>\n",
       "      <td>Cold</td>\n",
       "      <td>Swing</td>\n",
       "    </tr>\n",
       "  </tbody>\n",
       "</table>\n",
       "</div>"
      ],
      "text/plain": [
       "   id                name        date       armed  age gender      race  \\\n",
       "0   3          Tim Elliot  2015-01-02         gun   53      M     Asian   \n",
       "1   4    Lewis Lee Lembke  2015-01-02         gun   47      M     White   \n",
       "2   5  John Paul Quintero  2015-01-03     unarmed   23      M  Hispanic   \n",
       "3   8     Matthew Hoffman  2015-01-04  toy weapon   32      M     White   \n",
       "4   9   Michael Rodriguez  2015-01-04    nail gun   39      M  Hispanic   \n",
       "\n",
       "            city state  signs_of_mental_illness  threat_level  body_camera  \\\n",
       "0        Shelton    WA                     True             1        False   \n",
       "1          Aloha    OR                    False             1        False   \n",
       "2        Wichita    KS                    False             0        False   \n",
       "3  San Francisco    CA                     True             1        False   \n",
       "4          Evans    CO                    False             1        False   \n",
       "\n",
       "           arms_category   a_type s_type  \n",
       "0                   Guns     Guns   Blue  \n",
       "1                   Guns     Guns   Blue  \n",
       "2                Unarmed  Unarmed    Red  \n",
       "3  Other unusual objects    Other   Blue  \n",
       "4       Piercing objects     Cold  Swing  "
      ]
     },
     "execution_count": 9,
     "metadata": {},
     "output_type": "execute_result"
    }
   ],
   "source": [
    "df.head(5)"
   ]
  },
  {
   "cell_type": "code",
   "execution_count": 10,
   "metadata": {},
   "outputs": [
    {
     "name": "stdout",
     "output_type": "stream",
     "text": [
      "<class 'pandas.core.frame.DataFrame'>\n",
      "RangeIndex: 4895 entries, 0 to 4894\n",
      "Data columns (total 15 columns):\n",
      " #   Column                   Non-Null Count  Dtype \n",
      "---  ------                   --------------  ----- \n",
      " 0   id                       4895 non-null   int64 \n",
      " 1   name                     4895 non-null   object\n",
      " 2   date                     4895 non-null   object\n",
      " 3   armed                    4895 non-null   object\n",
      " 4   age                      4895 non-null   int64 \n",
      " 5   gender                   4895 non-null   object\n",
      " 6   race                     4895 non-null   object\n",
      " 7   city                     4895 non-null   object\n",
      " 8   state                    4895 non-null   object\n",
      " 9   signs_of_mental_illness  4895 non-null   bool  \n",
      " 10  threat_level             4895 non-null   int64 \n",
      " 11  body_camera              4895 non-null   bool  \n",
      " 12  arms_category            4895 non-null   object\n",
      " 13  a_type                   4895 non-null   object\n",
      " 14  s_type                   4881 non-null   object\n",
      "dtypes: bool(2), int64(3), object(10)\n",
      "memory usage: 506.8+ KB\n"
     ]
    }
   ],
   "source": [
    "df.info()"
   ]
  },
  {
   "cell_type": "markdown",
   "metadata": {},
   "source": [
    "### The dataset consists of 4896 observations. Each observation represents a suspect killed by a US police officer for the period from 2015 to 2020. \n",
    "\n",
    "### Most variables are categorical. This is information about the suspect (race, gender, his weapon, etc.) and general information about the incident (state, city, flee, threat level). There are also boolean variables - the presence of visible mental illness in the suspect and the presence of a chest camera in the policeman."
   ]
  },
  {
   "cell_type": "code",
   "execution_count": 11,
   "metadata": {},
   "outputs": [
    {
     "data": {
      "text/plain": [
       "<matplotlib.axes._subplots.AxesSubplot at 0x7f9a725d67d0>"
      ]
     },
     "execution_count": 11,
     "metadata": {},
     "output_type": "execute_result"
    },
    {
     "data": {
      "image/png": "[encoded data removed]",
      "text/plain": [
       "<Figure size 720x720 with 1 Axes>"
      ]
     },
     "metadata": {},
     "output_type": "display_data"
    }
   ],
   "source": [
    "race_counts = df['race'].value_counts()\n",
    "df_race_counts = pd.DataFrame({'race': race_counts}, \n",
    "                     index = ['Asian', 'Black', 'Hispanic', 'Other', 'White', 'Native']\n",
    "                   )\n",
    "df_race_counts.plot.pie(y='race', figsize=(10,10), autopct='%1.1f%%')"
   ]
  },
  {
   "cell_type": "markdown",
   "metadata": {},
   "source": [
    "### As you can see, half of those killed by the police are white people. However, no conclusion can be drawn from this, because there are fewer people of color in America than the white population. There are also 26,5% of killed black suspects and 18,4% of killed hispanic people. Category other includes people of Middle East, for example."
   ]
  },
  {
   "cell_type": "code",
   "execution_count": 12,
   "metadata": {},
   "outputs": [
    {
     "data": {
      "text/plain": [
       "Text(0.5, 1.0, 'Body camera')"
      ]
     },
     "execution_count": 12,
     "metadata": {},
     "output_type": "execute_result"
    },
    {
     "data": {
      "image/png": "[encoded data removed]",
      "text/plain": [
       "<Figure size 1800x576 with 4 Axes>"
      ]
     },
     "metadata": {},
     "output_type": "display_data"
    }
   ],
   "source": [
    "plt.figure(figsize=(25,8))\n",
    "plt.subplot(1,4,1)\n",
    "sns.countplot(x='threat_level', data=df)\n",
    "plt.title('Threat level', fontsize=25)\n",
    "\n",
    "plt.subplot(1,4,2)\n",
    "sns.countplot(x='gender', data=df)\n",
    "plt.title('Gender', fontsize=25)\n",
    "\n",
    "plt.subplot(1,4,3)\n",
    "sns.countplot(x='signs_of_mental_illness', data=df)\n",
    "plt.title('Signs of mental illness', fontsize=25)\n",
    "\n",
    "plt.subplot(1,4,4)\n",
    "sns.countplot(x='body_camera', data=df)\n",
    "plt.title('Body camera', fontsize=25)\n",
    "\n",
    "#plt.figure(figsize=(20,10))\n",
    "#ax = sns.countplot(x='threat_level', data=df)"
   ]
  },
  {
   "cell_type": "markdown",
   "metadata": {},
   "source": [
    "### The threat level variable is of the greatest interest to us. The value 1 - implies an Attack, the officer in the investigation indicated the actions as an attack. If the value of this variable is 0, it means that the officer definitely did not evaluate the suspect's action as an attack. The suspect reached for his pocket, made a sharp movement, his hands were out of sight of the officer - all these actions are characterized as not an attack\n",
    "\n",
    "### Other variables have a fairly obvious distribution. Most of those killed are males who wasn't fleeing. Most of the people had no visible mental disorders and at the same time only one in eight police officers had a body camera."
   ]
  },
  {
   "cell_type": "code",
   "execution_count": 13,
   "metadata": {},
   "outputs": [
    {
     "data": {
      "text/plain": [
       "Text(0.5, 1.0, 'State dominant party')"
      ]
     },
     "execution_count": 13,
     "metadata": {},
     "output_type": "execute_result"
    },
    {
     "data": {
      "image/png": "[encoded data removed]",
      "text/plain": [
       "<Figure size 1800x1584 with 3 Axes>"
      ]
     },
     "metadata": {},
     "output_type": "display_data"
    }
   ],
   "source": [
    "plt.figure(figsize=(25,22))\n",
    "plt.subplot(3,1,1)\n",
    "sns.countplot(x='arms_category', data=df)\n",
    "plt.title('Arms category', fontsize=25)\n",
    "\n",
    "plt.subplot(3,1,2)\n",
    "sns.countplot(x='state', data=df)\n",
    "plt.title('State', fontsize=25)\n",
    "\n",
    "plt.subplot(3,1,3)\n",
    "sns.countplot(x='s_type', data=df, palette=['#1f71c4', '#cc2338', 'lightgreen'])\n",
    "plt.title('State dominant party', fontsize=25)"
   ]
  },
  {
   "cell_type": "markdown",
   "metadata": {},
   "source": [
    "### Another very important detail is the weapon possessed by the killed suspects. Most of them had firearms with them. The second most popular weapon is sharp objects. At the same time, you can pay attention to the fact that 348 people were not armed at all, and 171 people were armed with toy weapons (this is included in the category of other unusual objects)\n",
    "\n",
    "### Also where are states with the most cases of police shooting. It's California, Texas and Florida. So the reason os that that's are the most populated states.\n",
    "\n",
    "### State's party dominance is distributet quite balanced. However, most of the cases took place in the Republican or Swing state"
   ]
  },
  {
   "cell_type": "markdown",
   "metadata": {},
   "source": [
    "### We decided to rearrange one of the variables. Arms category contains too many different categories. We aggregated them by their broader concept: Guns, cold weapon, unarmed, other. This categories have enough observations and we be more effective for model"
   ]
  },
  {
   "cell_type": "code",
   "execution_count": 14,
   "metadata": {},
   "outputs": [
    {
     "data": {
      "text/plain": [
       "Text(0.5, 1.0, 'Arms category v.2')"
      ]
     },
     "execution_count": 14,
     "metadata": {},
     "output_type": "execute_result"
    },
    {
     "data": {
      "image/png": "[encoded data removed]",
      "text/plain": [
       "<Figure size 720x360 with 1 Axes>"
      ]
     },
     "metadata": {},
     "output_type": "display_data"
    }
   ],
   "source": [
    "plt.figure(figsize=(10,5))\n",
    "sns.countplot(x='a_type', data=df)\n",
    "plt.title('Arms category v.2', fontsize=25)"
   ]
  },
  {
   "cell_type": "code",
   "execution_count": 15,
   "metadata": {},
   "outputs": [
    {
     "data": {
      "text/plain": [
       "<matplotlib.axes._subplots.AxesSubplot at 0x7f9a6bd609d0>"
      ]
     },
     "execution_count": 15,
     "metadata": {},
     "output_type": "execute_result"
    },
    {
     "data": {
      "image/png": "[encoded data removed]",
      "text/plain": [
       "<Figure size 1800x720 with 1 Axes>"
      ]
     },
     "metadata": {},
     "output_type": "display_data"
    }
   ],
   "source": [
    "plt.figure(figsize=(25,10))\n",
    "sns.countplot(x='age', data=df, color='#4a93cf')"
   ]
  },
  {
   "cell_type": "markdown",
   "metadata": {},
   "source": [
    "#### The age distribution does not look like normal, however it should be checked by appropriate tests."
   ]
  },
  {
   "cell_type": "code",
   "execution_count": 16,
   "metadata": {},
   "outputs": [
    {
     "data": {
      "text/plain": [
       "NormaltestResult(statistic=346.5169363006812, pvalue=5.685953966205574e-76)"
      ]
     },
     "execution_count": 16,
     "metadata": {},
     "output_type": "execute_result"
    }
   ],
   "source": [
    "spst.normaltest(df['age'], axis=0, nan_policy='propagate')"
   ]
  },
  {
   "cell_type": "markdown",
   "metadata": {},
   "source": [
    "#### Test demonstrted that the distribution of age is not normal"
   ]
  },
  {
   "cell_type": "markdown",
   "metadata": {},
   "source": [
    "### Is there any relation between the fact that the suspect purposefully attacks a policeman and any other signs of him? As an example, let's take a race, and see the distribution of races between the meaning of \"attacks\" and \"does not attack\""
   ]
  },
  {
   "cell_type": "code",
   "execution_count": 17,
   "metadata": {},
   "outputs": [
    {
     "data": {
      "text/html": [
       "<div>\n",
       "<style scoped>\n",
       "    .dataframe tbody tr th:only-of-type {\n",
       "        vertical-align: middle;\n",
       "    }\n",
       "\n",
       "    .dataframe tbody tr th {\n",
       "        vertical-align: top;\n",
       "    }\n",
       "\n",
       "    .dataframe thead th {\n",
       "        text-align: right;\n",
       "    }\n",
       "</style>\n",
       "<table border=\"1\" class=\"dataframe\">\n",
       "  <thead>\n",
       "    <tr style=\"text-align: right;\">\n",
       "      <th>race</th>\n",
       "      <th>Asian</th>\n",
       "      <th>Black</th>\n",
       "      <th>Hispanic</th>\n",
       "      <th>Native</th>\n",
       "      <th>Other</th>\n",
       "      <th>White</th>\n",
       "    </tr>\n",
       "    <tr>\n",
       "      <th>threat_level</th>\n",
       "      <th></th>\n",
       "      <th></th>\n",
       "      <th></th>\n",
       "      <th></th>\n",
       "      <th></th>\n",
       "      <th></th>\n",
       "    </tr>\n",
       "  </thead>\n",
       "  <tbody>\n",
       "    <tr>\n",
       "      <th>0</th>\n",
       "      <td>42</td>\n",
       "      <td>425</td>\n",
       "      <td>381</td>\n",
       "      <td>34</td>\n",
       "      <td>17</td>\n",
       "      <td>836</td>\n",
       "    </tr>\n",
       "    <tr>\n",
       "      <th>1</th>\n",
       "      <td>51</td>\n",
       "      <td>873</td>\n",
       "      <td>521</td>\n",
       "      <td>44</td>\n",
       "      <td>31</td>\n",
       "      <td>1640</td>\n",
       "    </tr>\n",
       "  </tbody>\n",
       "</table>\n",
       "</div>"
      ],
      "text/plain": [
       "race          Asian  Black  Hispanic  Native  Other  White\n",
       "threat_level                                              \n",
       "0                42    425       381      34     17    836\n",
       "1                51    873       521      44     31   1640"
      ]
     },
     "execution_count": 17,
     "metadata": {},
     "output_type": "execute_result"
    }
   ],
   "source": [
    "race_attack = pd.crosstab(df['threat_level'], df['race'])\n",
    "race_attack"
   ]
  },
  {
   "cell_type": "markdown",
   "metadata": {},
   "source": [
    "### The dependency, if there is one, is not obvious. We can check its presence or absence using the Chi-square test"
   ]
  },
  {
   "cell_type": "code",
   "execution_count": 18,
   "metadata": {},
   "outputs": [
    {
     "name": "stdout",
     "output_type": "stream",
     "text": [
      "7.4721950552183445e-06 \n",
      " So we reject null hypothesis and there is which means that there is an association between threat level and race\n"
     ]
    }
   ],
   "source": [
    "chi2, p, dof, expected = spst.chi2_contingency(race_attack) \n",
    "if p<0.05: print(p, '\\n', 'So we reject null hypothesis and there is which means that there is an association between threat level and race')\n",
    "else: print(p, 'So we accept null hypothesis and there is which means that there is no association between threat level and race')"
   ]
  },
  {
   "cell_type": "markdown",
   "metadata": {},
   "source": [
    "### Chi-square test shows us, that there is relation between this two categorical variables. "
   ]
  },
  {
   "cell_type": "code",
   "execution_count": 19,
   "metadata": {},
   "outputs": [],
   "source": [
    "expected_df = pd.DataFrame(data=expected,\n",
    "                   columns=['Asian', 'Black', 'Hispanic', 'Native', 'Other', 'White'])\n",
    "chi_residuals = expected_df - race_attack"
   ]
  },
  {
   "cell_type": "code",
   "execution_count": 20,
   "metadata": {},
   "outputs": [
    {
     "data": {
      "image/png": "[encoded data removed]",
      "text/plain": [
       "<Figure size 1440x432 with 2 Axes>"
      ]
     },
     "metadata": {},
     "output_type": "display_data"
    }
   ],
   "source": [
    "fig = plt.figure(figsize=(20,6))\n",
    "sns.heatmap(chi_residuals, annot=race_attack, cmap='coolwarm', fmt='.4g')\n",
    "plt.title('Chi-Square Test Results')\n",
    "plt.show()"
   ]
  },
  {
   "cell_type": "markdown",
   "metadata": {},
   "source": [
    "### This graph is a visualization of the Chi-square test. It shows great Chi-residues in the case of white, black and hispanic people. That is, their number among attackers or non-attackers differs significantly from the expected one, in which the threat level does not depend on race"
   ]
  },
  {
   "cell_type": "markdown",
   "metadata": {},
   "source": [
    "### Окей, пояснение про хи квадрат. Этот тест посмотрел, есть ли разница между нашим датасетом, и \"идеальным\" датасетом, где для всех рас пропорции одинаковые. И вот где испанцы получились красные, а черные и белые оранжевые, значит там эта диспропорция очень ощутимая. То есть именно тот факт, что ты латинос, черный или белый сильнее влияет на то, атакуешь ты или нет"
   ]
  },
  {
   "cell_type": "markdown",
   "metadata": {},
   "source": [
    "# Part 3\n",
    "# Research question"
   ]
  },
  {
   "cell_type": "markdown",
   "metadata": {},
   "source": [
    "## The selected dataset contains factors which created a situation when the suspected person was shot by a police officer. Within the framework of legislation, where a person can be shot by a police officer under certain circumstances (created by a suspect), it is necessary to find out what specific factors (a group of factors) create a precedent for the use of weapons by a police officer and how fair these cases were. \n",
    "\n",
    "## To do this, we will select the fact of an attack by the suspect as a dependent variable, since this action gives the police officer the full right to use weapons, and let's see what can influence it. In addition, in the course of the study, we will find out whether any prejudices against certain areas, groups of people are confirmed."
   ]
  },
  {
   "cell_type": "markdown",
   "metadata": {},
   "source": [
    "## Basic model\n",
    "\n",
    "### To begin with, we want to estimate coefficient for the basic model where we trying to find relations between fact of attacking and race (also we can use variable age as an addition)"
   ]
  },
  {
   "cell_type": "code",
   "execution_count": 21,
   "metadata": {},
   "outputs": [
    {
     "name": "stdout",
     "output_type": "stream",
     "text": [
      "Optimization terminated successfully.\n",
      "         Current function value: 0.646279\n",
      "         Iterations 5\n"
     ]
    },
    {
     "data": {
      "text/html": [
       "<table class=\"simpletable\">\n",
       "<caption>Logit Regression Results</caption>\n",
       "<tr>\n",
       "  <th>Dep. Variable:</th>     <td>threat_level</td>   <th>  No. Observations:  </th>  <td>  4895</td>  \n",
       "</tr>\n",
       "<tr>\n",
       "  <th>Model:</th>                 <td>Logit</td>      <th>  Df Residuals:      </th>  <td>  4888</td>  \n",
       "</tr>\n",
       "<tr>\n",
       "  <th>Method:</th>                 <td>MLE</td>       <th>  Df Model:          </th>  <td>     6</td>  \n",
       "</tr>\n",
       "<tr>\n",
       "  <th>Date:</th>            <td>Mon, 18 Oct 2021</td> <th>  Pseudo R-squ.:     </th> <td>0.005960</td> \n",
       "</tr>\n",
       "<tr>\n",
       "  <th>Time:</th>                <td>10:50:40</td>     <th>  Log-Likelihood:    </th> <td> -3163.5</td> \n",
       "</tr>\n",
       "<tr>\n",
       "  <th>converged:</th>             <td>True</td>       <th>  LL-Null:           </th> <td> -3182.5</td> \n",
       "</tr>\n",
       "<tr>\n",
       "  <th>Covariance Type:</th>     <td>nonrobust</td>    <th>  LLR p-value:       </th> <td>1.158e-06</td>\n",
       "</tr>\n",
       "</table>\n",
       "<table class=\"simpletable\">\n",
       "<tr>\n",
       "                          <td></td>                             <th>coef</th>     <th>std err</th>      <th>z</th>      <th>P>|z|</th>  <th>[0.025</th>    <th>0.975]</th>  \n",
       "</tr>\n",
       "<tr>\n",
       "  <th>Intercept</th>                                         <td>    0.4137</td> <td>    0.107</td> <td>    3.866</td> <td> 0.000</td> <td>    0.204</td> <td>    0.623</td>\n",
       "</tr>\n",
       "<tr>\n",
       "  <th>C(race, Treatment(reference=\"White\"))[T.Asian]</th>    <td>   -0.4587</td> <td>    0.213</td> <td>   -2.154</td> <td> 0.031</td> <td>   -0.876</td> <td>   -0.041</td>\n",
       "</tr>\n",
       "<tr>\n",
       "  <th>C(race, Treatment(reference=\"White\"))[T.Black]</th>    <td>    0.0939</td> <td>    0.075</td> <td>    1.251</td> <td> 0.211</td> <td>   -0.053</td> <td>    0.241</td>\n",
       "</tr>\n",
       "<tr>\n",
       "  <th>C(race, Treatment(reference=\"White\"))[T.Hispanic]</th> <td>   -0.3209</td> <td>    0.081</td> <td>   -3.957</td> <td> 0.000</td> <td>   -0.480</td> <td>   -0.162</td>\n",
       "</tr>\n",
       "<tr>\n",
       "  <th>C(race, Treatment(reference=\"White\"))[T.Native]</th>   <td>   -0.3635</td> <td>    0.233</td> <td>   -1.559</td> <td> 0.119</td> <td>   -0.820</td> <td>    0.094</td>\n",
       "</tr>\n",
       "<tr>\n",
       "  <th>C(race, Treatment(reference=\"White\"))[T.Other]</th>    <td>   -0.0288</td> <td>    0.305</td> <td>   -0.094</td> <td> 0.925</td> <td>   -0.627</td> <td>    0.570</td>\n",
       "</tr>\n",
       "<tr>\n",
       "  <th>age</th>                                               <td>    0.0065</td> <td>    0.002</td> <td>    2.636</td> <td> 0.008</td> <td>    0.002</td> <td>    0.011</td>\n",
       "</tr>\n",
       "</table>"
      ],
      "text/plain": [
       "<class 'statsmodels.iolib.summary.Summary'>\n",
       "\"\"\"\n",
       "                           Logit Regression Results                           \n",
       "==============================================================================\n",
       "Dep. Variable:           threat_level   No. Observations:                 4895\n",
       "Model:                          Logit   Df Residuals:                     4888\n",
       "Method:                           MLE   Df Model:                            6\n",
       "Date:                Mon, 18 Oct 2021   Pseudo R-squ.:                0.005960\n",
       "Time:                        10:50:40   Log-Likelihood:                -3163.5\n",
       "converged:                       True   LL-Null:                       -3182.5\n",
       "Covariance Type:            nonrobust   LLR p-value:                 1.158e-06\n",
       "=====================================================================================================================\n",
       "                                                        coef    std err          z      P>|z|      [0.025      0.975]\n",
       "---------------------------------------------------------------------------------------------------------------------\n",
       "Intercept                                             0.4137      0.107      3.866      0.000       0.204       0.623\n",
       "C(race, Treatment(reference=\"White\"))[T.Asian]       -0.4587      0.213     -2.154      0.031      -0.876      -0.041\n",
       "C(race, Treatment(reference=\"White\"))[T.Black]        0.0939      0.075      1.251      0.211      -0.053       0.241\n",
       "C(race, Treatment(reference=\"White\"))[T.Hispanic]    -0.3209      0.081     -3.957      0.000      -0.480      -0.162\n",
       "C(race, Treatment(reference=\"White\"))[T.Native]      -0.3635      0.233     -1.559      0.119      -0.820       0.094\n",
       "C(race, Treatment(reference=\"White\"))[T.Other]       -0.0288      0.305     -0.094      0.925      -0.627       0.570\n",
       "age                                                   0.0065      0.002      2.636      0.008       0.002       0.011\n",
       "=====================================================================================================================\n",
       "\"\"\""
      ]
     },
     "execution_count": 21,
     "metadata": {},
     "output_type": "execute_result"
    }
   ],
   "source": [
    "model = smfLGT('threat_level ~ age + C(race, Treatment(reference=\"White\"))', data=df) \n",
    "model.fit().summary()"
   ]
  },
  {
   "cell_type": "code",
   "execution_count": 22,
   "metadata": {},
   "outputs": [
    {
     "name": "stdout",
     "output_type": "stream",
     "text": [
      "Optimization terminated successfully.\n",
      "         Current function value: 0.577630\n",
      "         Iterations 5\n"
     ]
    },
    {
     "data": {
      "text/html": [
       "<table class=\"simpletable\">\n",
       "<caption>Logit Regression Results</caption>\n",
       "<tr>\n",
       "  <th>Dep. Variable:</th>     <td>threat_level</td>   <th>  No. Observations:  </th>   <td>  4895</td>  \n",
       "</tr>\n",
       "<tr>\n",
       "  <th>Model:</th>                 <td>Logit</td>      <th>  Df Residuals:      </th>   <td>  4885</td>  \n",
       "</tr>\n",
       "<tr>\n",
       "  <th>Method:</th>                 <td>MLE</td>       <th>  Df Model:          </th>   <td>     9</td>  \n",
       "</tr>\n",
       "<tr>\n",
       "  <th>Date:</th>            <td>Mon, 18 Oct 2021</td> <th>  Pseudo R-squ.:     </th>   <td>0.1115</td>  \n",
       "</tr>\n",
       "<tr>\n",
       "  <th>Time:</th>                <td>10:50:40</td>     <th>  Log-Likelihood:    </th>  <td> -2827.5</td> \n",
       "</tr>\n",
       "<tr>\n",
       "  <th>converged:</th>             <td>True</td>       <th>  LL-Null:           </th>  <td> -3182.5</td> \n",
       "</tr>\n",
       "<tr>\n",
       "  <th>Covariance Type:</th>     <td>nonrobust</td>    <th>  LLR p-value:       </th> <td>4.865e-147</td>\n",
       "</tr>\n",
       "</table>\n",
       "<table class=\"simpletable\">\n",
       "<tr>\n",
       "                          <td></td>                             <th>coef</th>     <th>std err</th>      <th>z</th>      <th>P>|z|</th>  <th>[0.025</th>    <th>0.975]</th>  \n",
       "</tr>\n",
       "<tr>\n",
       "  <th>Intercept</th>                                         <td>   -0.4805</td> <td>    0.134</td> <td>   -3.597</td> <td> 0.000</td> <td>   -0.742</td> <td>   -0.219</td>\n",
       "</tr>\n",
       "<tr>\n",
       "  <th>C(race, Treatment(reference=\"White\"))[T.Asian]</th>    <td>   -0.1413</td> <td>    0.230</td> <td>   -0.615</td> <td> 0.538</td> <td>   -0.592</td> <td>    0.309</td>\n",
       "</tr>\n",
       "<tr>\n",
       "  <th>C(race, Treatment(reference=\"White\"))[T.Black]</th>    <td>    0.0705</td> <td>    0.081</td> <td>    0.876</td> <td> 0.381</td> <td>   -0.087</td> <td>    0.228</td>\n",
       "</tr>\n",
       "<tr>\n",
       "  <th>C(race, Treatment(reference=\"White\"))[T.Hispanic]</th> <td>   -0.2392</td> <td>    0.087</td> <td>   -2.736</td> <td> 0.006</td> <td>   -0.410</td> <td>   -0.068</td>\n",
       "</tr>\n",
       "<tr>\n",
       "  <th>C(race, Treatment(reference=\"White\"))[T.Native]</th>   <td>   -0.3293</td> <td>    0.253</td> <td>   -1.301</td> <td> 0.193</td> <td>   -0.825</td> <td>    0.167</td>\n",
       "</tr>\n",
       "<tr>\n",
       "  <th>C(race, Treatment(reference=\"White\"))[T.Other]</th>    <td>    0.3129</td> <td>    0.327</td> <td>    0.956</td> <td> 0.339</td> <td>   -0.328</td> <td>    0.954</td>\n",
       "</tr>\n",
       "<tr>\n",
       "  <th>a_type[T.Guns]</th>                                    <td>    1.8009</td> <td>    0.085</td> <td>   21.076</td> <td> 0.000</td> <td>    1.633</td> <td>    1.968</td>\n",
       "</tr>\n",
       "<tr>\n",
       "  <th>a_type[T.Other]</th>                                   <td>    0.5288</td> <td>    0.097</td> <td>    5.467</td> <td> 0.000</td> <td>    0.339</td> <td>    0.718</td>\n",
       "</tr>\n",
       "<tr>\n",
       "  <th>a_type[T.Unarmed]</th>                                 <td>   -0.0542</td> <td>    0.132</td> <td>   -0.410</td> <td> 0.682</td> <td>   -0.313</td> <td>    0.205</td>\n",
       "</tr>\n",
       "<tr>\n",
       "  <th>age</th>                                               <td>    0.0022</td> <td>    0.003</td> <td>    0.832</td> <td> 0.406</td> <td>   -0.003</td> <td>    0.008</td>\n",
       "</tr>\n",
       "</table>"
      ],
      "text/plain": [
       "<class 'statsmodels.iolib.summary.Summary'>\n",
       "\"\"\"\n",
       "                           Logit Regression Results                           \n",
       "==============================================================================\n",
       "Dep. Variable:           threat_level   No. Observations:                 4895\n",
       "Model:                          Logit   Df Residuals:                     4885\n",
       "Method:                           MLE   Df Model:                            9\n",
       "Date:                Mon, 18 Oct 2021   Pseudo R-squ.:                  0.1115\n",
       "Time:                        10:50:40   Log-Likelihood:                -2827.5\n",
       "converged:                       True   LL-Null:                       -3182.5\n",
       "Covariance Type:            nonrobust   LLR p-value:                4.865e-147\n",
       "=====================================================================================================================\n",
       "                                                        coef    std err          z      P>|z|      [0.025      0.975]\n",
       "---------------------------------------------------------------------------------------------------------------------\n",
       "Intercept                                            -0.4805      0.134     -3.597      0.000      -0.742      -0.219\n",
       "C(race, Treatment(reference=\"White\"))[T.Asian]       -0.1413      0.230     -0.615      0.538      -0.592       0.309\n",
       "C(race, Treatment(reference=\"White\"))[T.Black]        0.0705      0.081      0.876      0.381      -0.087       0.228\n",
       "C(race, Treatment(reference=\"White\"))[T.Hispanic]    -0.2392      0.087     -2.736      0.006      -0.410      -0.068\n",
       "C(race, Treatment(reference=\"White\"))[T.Native]      -0.3293      0.253     -1.301      0.193      -0.825       0.167\n",
       "C(race, Treatment(reference=\"White\"))[T.Other]        0.3129      0.327      0.956      0.339      -0.328       0.954\n",
       "a_type[T.Guns]                                        1.8009      0.085     21.076      0.000       1.633       1.968\n",
       "a_type[T.Other]                                       0.5288      0.097      5.467      0.000       0.339       0.718\n",
       "a_type[T.Unarmed]                                    -0.0542      0.132     -0.410      0.682      -0.313       0.205\n",
       "age                                                   0.0022      0.003      0.832      0.406      -0.003       0.008\n",
       "=====================================================================================================================\n",
       "\"\"\""
      ]
     },
     "execution_count": 22,
     "metadata": {},
     "output_type": "execute_result"
    }
   ],
   "source": [
    "model = smfLGT('threat_level ~ age + C(race, Treatment(reference=\"White\")) + a_type', data=df)\n",
    "model.fit().summary()"
   ]
  },
  {
   "cell_type": "code",
   "execution_count": 23,
   "metadata": {},
   "outputs": [
    {
     "name": "stdout",
     "output_type": "stream",
     "text": [
      "Optimization terminated successfully.\n",
      "         Current function value: 0.642932\n",
      "         Iterations 5\n"
     ]
    },
    {
     "data": {
      "text/html": [
       "<table class=\"simpletable\">\n",
       "<caption>Logit Regression Results</caption>\n",
       "<tr>\n",
       "  <th>Dep. Variable:</th>     <td>threat_level</td>   <th>  No. Observations:  </th>  <td>  4881</td>  \n",
       "</tr>\n",
       "<tr>\n",
       "  <th>Model:</th>                 <td>Logit</td>      <th>  Df Residuals:      </th>  <td>  4871</td>  \n",
       "</tr>\n",
       "<tr>\n",
       "  <th>Method:</th>                 <td>MLE</td>       <th>  Df Model:          </th>  <td>     9</td>  \n",
       "</tr>\n",
       "<tr>\n",
       "  <th>Date:</th>            <td>Mon, 18 Oct 2021</td> <th>  Pseudo R-squ.:     </th>  <td>0.01166</td> \n",
       "</tr>\n",
       "<tr>\n",
       "  <th>Time:</th>                <td>10:50:40</td>     <th>  Log-Likelihood:    </th> <td> -3138.2</td> \n",
       "</tr>\n",
       "<tr>\n",
       "  <th>converged:</th>             <td>True</td>       <th>  LL-Null:           </th> <td> -3175.2</td> \n",
       "</tr>\n",
       "<tr>\n",
       "  <th>Covariance Type:</th>     <td>nonrobust</td>    <th>  LLR p-value:       </th> <td>2.440e-12</td>\n",
       "</tr>\n",
       "</table>\n",
       "<table class=\"simpletable\">\n",
       "<tr>\n",
       "                          <td></td>                             <th>coef</th>     <th>std err</th>      <th>z</th>      <th>P>|z|</th>  <th>[0.025</th>    <th>0.975]</th>  \n",
       "</tr>\n",
       "<tr>\n",
       "  <th>Intercept</th>                                         <td>    0.2438</td> <td>    0.120</td> <td>    2.035</td> <td> 0.042</td> <td>    0.009</td> <td>    0.479</td>\n",
       "</tr>\n",
       "<tr>\n",
       "  <th>C(race, Treatment(reference=\"White\"))[T.Asian]</th>    <td>   -0.3824</td> <td>    0.216</td> <td>   -1.769</td> <td> 0.077</td> <td>   -0.806</td> <td>    0.041</td>\n",
       "</tr>\n",
       "<tr>\n",
       "  <th>C(race, Treatment(reference=\"White\"))[T.Black]</th>    <td>    0.0840</td> <td>    0.076</td> <td>    1.102</td> <td> 0.270</td> <td>   -0.065</td> <td>    0.234</td>\n",
       "</tr>\n",
       "<tr>\n",
       "  <th>C(race, Treatment(reference=\"White\"))[T.Hispanic]</th> <td>   -0.2780</td> <td>    0.083</td> <td>   -3.339</td> <td> 0.001</td> <td>   -0.441</td> <td>   -0.115</td>\n",
       "</tr>\n",
       "<tr>\n",
       "  <th>C(race, Treatment(reference=\"White\"))[T.Native]</th>   <td>   -0.4682</td> <td>    0.238</td> <td>   -1.970</td> <td> 0.049</td> <td>   -0.934</td> <td>   -0.002</td>\n",
       "</tr>\n",
       "<tr>\n",
       "  <th>C(race, Treatment(reference=\"White\"))[T.Other]</th>    <td>    0.0923</td> <td>    0.308</td> <td>    0.300</td> <td> 0.764</td> <td>   -0.511</td> <td>    0.695</td>\n",
       "</tr>\n",
       "<tr>\n",
       "  <th>s_type[T.Red]</th>                                     <td>    0.3477</td> <td>    0.078</td> <td>    4.462</td> <td> 0.000</td> <td>    0.195</td> <td>    0.500</td>\n",
       "</tr>\n",
       "<tr>\n",
       "  <th>s_type[T.Swing]</th>                                   <td>    0.2418</td> <td>    0.074</td> <td>    3.258</td> <td> 0.001</td> <td>    0.096</td> <td>    0.387</td>\n",
       "</tr>\n",
       "<tr>\n",
       "  <th>signs_of_mental_illness[T.True]</th>                   <td>   -0.2485</td> <td>    0.072</td> <td>   -3.438</td> <td> 0.001</td> <td>   -0.390</td> <td>   -0.107</td>\n",
       "</tr>\n",
       "<tr>\n",
       "  <th>age</th>                                               <td>    0.0070</td> <td>    0.003</td> <td>    2.779</td> <td> 0.005</td> <td>    0.002</td> <td>    0.012</td>\n",
       "</tr>\n",
       "</table>"
      ],
      "text/plain": [
       "<class 'statsmodels.iolib.summary.Summary'>\n",
       "\"\"\"\n",
       "                           Logit Regression Results                           \n",
       "==============================================================================\n",
       "Dep. Variable:           threat_level   No. Observations:                 4881\n",
       "Model:                          Logit   Df Residuals:                     4871\n",
       "Method:                           MLE   Df Model:                            9\n",
       "Date:                Mon, 18 Oct 2021   Pseudo R-squ.:                 0.01166\n",
       "Time:                        10:50:40   Log-Likelihood:                -3138.2\n",
       "converged:                       True   LL-Null:                       -3175.2\n",
       "Covariance Type:            nonrobust   LLR p-value:                 2.440e-12\n",
       "=====================================================================================================================\n",
       "                                                        coef    std err          z      P>|z|      [0.025      0.975]\n",
       "---------------------------------------------------------------------------------------------------------------------\n",
       "Intercept                                             0.2438      0.120      2.035      0.042       0.009       0.479\n",
       "C(race, Treatment(reference=\"White\"))[T.Asian]       -0.3824      0.216     -1.769      0.077      -0.806       0.041\n",
       "C(race, Treatment(reference=\"White\"))[T.Black]        0.0840      0.076      1.102      0.270      -0.065       0.234\n",
       "C(race, Treatment(reference=\"White\"))[T.Hispanic]    -0.2780      0.083     -3.339      0.001      -0.441      -0.115\n",
       "C(race, Treatment(reference=\"White\"))[T.Native]      -0.4682      0.238     -1.970      0.049      -0.934      -0.002\n",
       "C(race, Treatment(reference=\"White\"))[T.Other]        0.0923      0.308      0.300      0.764      -0.511       0.695\n",
       "s_type[T.Red]                                         0.3477      0.078      4.462      0.000       0.195       0.500\n",
       "s_type[T.Swing]                                       0.2418      0.074      3.258      0.001       0.096       0.387\n",
       "signs_of_mental_illness[T.True]                      -0.2485      0.072     -3.438      0.001      -0.390      -0.107\n",
       "age                                                   0.0070      0.003      2.779      0.005       0.002       0.012\n",
       "=====================================================================================================================\n",
       "\"\"\""
      ]
     },
     "execution_count": 23,
     "metadata": {},
     "output_type": "execute_result"
    }
   ],
   "source": [
    "model = smfLGT('threat_level ~ age + C(race, Treatment(reference=\"White\")) + s_type + signs_of_mental_illness', data=df)\n",
    "model.fit().summary()"
   ]
  },
  {
   "cell_type": "code",
   "execution_count": 24,
   "metadata": {},
   "outputs": [
    {
     "name": "stdout",
     "output_type": "stream",
     "text": [
      "Optimization terminated successfully.\n",
      "         Current function value: 0.642722\n",
      "         Iterations 5\n"
     ]
    },
    {
     "data": {
      "text/html": [
       "<table class=\"simpletable\">\n",
       "<caption>Logit Regression Results</caption>\n",
       "<tr>\n",
       "  <th>Dep. Variable:</th>     <td>threat_level</td>   <th>  No. Observations:  </th>  <td>  4881</td>  \n",
       "</tr>\n",
       "<tr>\n",
       "  <th>Model:</th>                 <td>Logit</td>      <th>  Df Residuals:      </th>  <td>  4870</td>  \n",
       "</tr>\n",
       "<tr>\n",
       "  <th>Method:</th>                 <td>MLE</td>       <th>  Df Model:          </th>  <td>    10</td>  \n",
       "</tr>\n",
       "<tr>\n",
       "  <th>Date:</th>            <td>Mon, 18 Oct 2021</td> <th>  Pseudo R-squ.:     </th>  <td>0.01198</td> \n",
       "</tr>\n",
       "<tr>\n",
       "  <th>Time:</th>                <td>10:50:40</td>     <th>  Log-Likelihood:    </th> <td> -3137.1</td> \n",
       "</tr>\n",
       "<tr>\n",
       "  <th>converged:</th>             <td>True</td>       <th>  LL-Null:           </th> <td> -3175.2</td> \n",
       "</tr>\n",
       "<tr>\n",
       "  <th>Covariance Type:</th>     <td>nonrobust</td>    <th>  LLR p-value:       </th> <td>2.910e-12</td>\n",
       "</tr>\n",
       "</table>\n",
       "<table class=\"simpletable\">\n",
       "<tr>\n",
       "                          <td></td>                             <th>coef</th>     <th>std err</th>      <th>z</th>      <th>P>|z|</th>  <th>[0.025</th>    <th>0.975]</th>  \n",
       "</tr>\n",
       "<tr>\n",
       "  <th>Intercept</th>                                         <td>    0.2594</td> <td>    0.120</td> <td>    2.156</td> <td> 0.031</td> <td>    0.024</td> <td>    0.495</td>\n",
       "</tr>\n",
       "<tr>\n",
       "  <th>C(race, Treatment(reference=\"White\"))[T.Asian]</th>    <td>   -0.3729</td> <td>    0.216</td> <td>   -1.724</td> <td> 0.085</td> <td>   -0.797</td> <td>    0.051</td>\n",
       "</tr>\n",
       "<tr>\n",
       "  <th>C(race, Treatment(reference=\"White\"))[T.Black]</th>    <td>    0.0929</td> <td>    0.077</td> <td>    1.213</td> <td> 0.225</td> <td>   -0.057</td> <td>    0.243</td>\n",
       "</tr>\n",
       "<tr>\n",
       "  <th>C(race, Treatment(reference=\"White\"))[T.Hispanic]</th> <td>   -0.2752</td> <td>    0.083</td> <td>   -3.305</td> <td> 0.001</td> <td>   -0.438</td> <td>   -0.112</td>\n",
       "</tr>\n",
       "<tr>\n",
       "  <th>C(race, Treatment(reference=\"White\"))[T.Native]</th>   <td>   -0.4611</td> <td>    0.238</td> <td>   -1.939</td> <td> 0.052</td> <td>   -0.927</td> <td>    0.005</td>\n",
       "</tr>\n",
       "<tr>\n",
       "  <th>C(race, Treatment(reference=\"White\"))[T.Other]</th>    <td>    0.0954</td> <td>    0.308</td> <td>    0.310</td> <td> 0.757</td> <td>   -0.508</td> <td>    0.699</td>\n",
       "</tr>\n",
       "<tr>\n",
       "  <th>s_type[T.Red]</th>                                     <td>    0.3447</td> <td>    0.078</td> <td>    4.422</td> <td> 0.000</td> <td>    0.192</td> <td>    0.498</td>\n",
       "</tr>\n",
       "<tr>\n",
       "  <th>s_type[T.Swing]</th>                                   <td>    0.2390</td> <td>    0.074</td> <td>    3.218</td> <td> 0.001</td> <td>    0.093</td> <td>    0.385</td>\n",
       "</tr>\n",
       "<tr>\n",
       "  <th>signs_of_mental_illness[T.True]</th>                   <td>   -0.2422</td> <td>    0.072</td> <td>   -3.343</td> <td> 0.001</td> <td>   -0.384</td> <td>   -0.100</td>\n",
       "</tr>\n",
       "<tr>\n",
       "  <th>body_camera[T.True]</th>                               <td>   -0.1330</td> <td>    0.092</td> <td>   -1.438</td> <td> 0.150</td> <td>   -0.314</td> <td>    0.048</td>\n",
       "</tr>\n",
       "<tr>\n",
       "  <th>age</th>                                               <td>    0.0069</td> <td>    0.003</td> <td>    2.754</td> <td> 0.006</td> <td>    0.002</td> <td>    0.012</td>\n",
       "</tr>\n",
       "</table>"
      ],
      "text/plain": [
       "<class 'statsmodels.iolib.summary.Summary'>\n",
       "\"\"\"\n",
       "                           Logit Regression Results                           \n",
       "==============================================================================\n",
       "Dep. Variable:           threat_level   No. Observations:                 4881\n",
       "Model:                          Logit   Df Residuals:                     4870\n",
       "Method:                           MLE   Df Model:                           10\n",
       "Date:                Mon, 18 Oct 2021   Pseudo R-squ.:                 0.01198\n",
       "Time:                        10:50:40   Log-Likelihood:                -3137.1\n",
       "converged:                       True   LL-Null:                       -3175.2\n",
       "Covariance Type:            nonrobust   LLR p-value:                 2.910e-12\n",
       "=====================================================================================================================\n",
       "                                                        coef    std err          z      P>|z|      [0.025      0.975]\n",
       "---------------------------------------------------------------------------------------------------------------------\n",
       "Intercept                                             0.2594      0.120      2.156      0.031       0.024       0.495\n",
       "C(race, Treatment(reference=\"White\"))[T.Asian]       -0.3729      0.216     -1.724      0.085      -0.797       0.051\n",
       "C(race, Treatment(reference=\"White\"))[T.Black]        0.0929      0.077      1.213      0.225      -0.057       0.243\n",
       "C(race, Treatment(reference=\"White\"))[T.Hispanic]    -0.2752      0.083     -3.305      0.001      -0.438      -0.112\n",
       "C(race, Treatment(reference=\"White\"))[T.Native]      -0.4611      0.238     -1.939      0.052      -0.927       0.005\n",
       "C(race, Treatment(reference=\"White\"))[T.Other]        0.0954      0.308      0.310      0.757      -0.508       0.699\n",
       "s_type[T.Red]                                         0.3447      0.078      4.422      0.000       0.192       0.498\n",
       "s_type[T.Swing]                                       0.2390      0.074      3.218      0.001       0.093       0.385\n",
       "signs_of_mental_illness[T.True]                      -0.2422      0.072     -3.343      0.001      -0.384      -0.100\n",
       "body_camera[T.True]                                  -0.1330      0.092     -1.438      0.150      -0.314       0.048\n",
       "age                                                   0.0069      0.003      2.754      0.006       0.002       0.012\n",
       "=====================================================================================================================\n",
       "\"\"\""
      ]
     },
     "execution_count": 24,
     "metadata": {},
     "output_type": "execute_result"
    }
   ],
   "source": [
    "model = smfLGT('threat_level ~ age + C(race, Treatment(reference=\"White\")) + s_type + signs_of_mental_illness + body_camera', data=df)\n",
    "model.fit().summary()"
   ]
  },
  {
   "cell_type": "markdown",
   "metadata": {},
   "source": [
    "# Sklearn methodologies\n",
    "#### Let's write some useful functions: "
   ]
  },
  {
   "cell_type": "code",
   "execution_count": 25,
   "metadata": {},
   "outputs": [],
   "source": [
    "import numpy as np\n",
    "import pandas as pd\n",
    "from sklearn import preprocessing\n",
    "from sklearn.linear_model import LogisticRegression\n",
    "from sklearn.metrics import mean_squared_error\n",
    "from sklearn.model_selection import GridSearchCV\n",
    "from sklearn.model_selection import train_test_split\n",
    "from sklearn.model_selection import cross_val_score\n",
    "from sklearn.metrics import roc_auc_score\n",
    "from sklearn.metrics import plot_roc_curve\n",
    "from sklearn.metrics import accuracy_score\n",
    "from sklearn.metrics import explained_variance_score\n",
    "from sklearn.metrics import precision_score\n",
    "from sklearn.metrics import recall_score\n",
    "\n",
    "def rmse(y, p):\n",
    "    return np.sqrt(mean_squared_error(y, p))\n",
    "\n",
    "#def beatiful_coef(coefs, feature_names=X_cat.columns):\n",
    " #   return pd.DataFrame(coefs, index=feature_names, columns=[\"coef\"]).sort_values(\n",
    "  #      \"coef\", ascending=False)\n",
    "\n",
    "def metrics (y_valid, x):\n",
    "    return print('RMSE: {}'.format(rmse(y_valid, x)),\n",
    "                'ROC_AUC_score: {}'.format(roc_auc_score(y_valid, x)),\n",
    "                'acuracy score: {}'.format(accuracy_score(y_valid, x)),\n",
    "                'precision score: {}'.format(precision_score(y_valid, x)),\n",
    "                'recall score: {}'.format(recall_score(y_valid, x)))\n",
    "\n",
    "def metrics_tree (y_valid, x):\n",
    "    return print('RMSE: {}'.format(rmse(y_valid, x)),\n",
    "                'ROC_AUC_score: {}'.format(roc_auc_score(y_valid, x)))\n",
    "                #'acuracy score: {}'.format(accuracy_score(y_valid, x)),\n",
    "                #'precision score: {}'.format(precision_score(y_valid, x)),\n",
    "                #'recall score: {}'.format(recall_score(y_valid, x)))"
   ]
  },
  {
   "cell_type": "markdown",
   "metadata": {},
   "source": [
    "# Data preparation\n",
    "#### Preparing of the data for a logistic model and a random forest:"
   ]
  },
  {
   "cell_type": "markdown",
   "metadata": {},
   "source": [
    "#### Encoding of categorical variables:"
   ]
  },
  {
   "cell_type": "code",
   "execution_count": 26,
   "metadata": {},
   "outputs": [
    {
     "data": {
      "text/plain": [
       "array([1, 1, 0, 1, 1, 1, 1, 1, 0, 1, 1, 1, 0, 1, 1, 0, 1, 1, 1, 1])"
      ]
     },
     "execution_count": 26,
     "metadata": {},
     "output_type": "execute_result"
    }
   ],
   "source": [
    "label_enc = preprocessing.LabelEncoder()\n",
    "y = label_enc.fit_transform(y)\n",
    "y[:20]"
   ]
  },
  {
   "cell_type": "code",
   "execution_count": 27,
   "metadata": {},
   "outputs": [
    {
     "name": "stdout",
     "output_type": "stream",
     "text": [
      "[ True  True False False  True  True]\n",
      "4\n"
     ]
    }
   ],
   "source": [
    "cat_features_mask = (X.dtypes == \"object\").values\n",
    "print(cat_features_mask)\n",
    "print(len(cat_features_mask[cat_features_mask==True]))"
   ]
  },
  {
   "cell_type": "code",
   "execution_count": 28,
   "metadata": {},
   "outputs": [
    {
     "data": {
      "text/html": [
       "<div>\n",
       "<style scoped>\n",
       "    .dataframe tbody tr th:only-of-type {\n",
       "        vertical-align: middle;\n",
       "    }\n",
       "\n",
       "    .dataframe tbody tr th {\n",
       "        vertical-align: top;\n",
       "    }\n",
       "\n",
       "    .dataframe thead th {\n",
       "        text-align: right;\n",
       "    }\n",
       "</style>\n",
       "<table border=\"1\" class=\"dataframe\">\n",
       "  <thead>\n",
       "    <tr style=\"text-align: right;\">\n",
       "      <th></th>\n",
       "      <th>gender</th>\n",
       "      <th>race</th>\n",
       "      <th>signs_of_mental_illness</th>\n",
       "      <th>body_camera</th>\n",
       "      <th>a_type</th>\n",
       "      <th>s_type</th>\n",
       "    </tr>\n",
       "  </thead>\n",
       "  <tbody>\n",
       "    <tr>\n",
       "      <th>0</th>\n",
       "      <td>4659</td>\n",
       "      <td>92</td>\n",
       "      <td>True</td>\n",
       "      <td>False</td>\n",
       "      <td>2754</td>\n",
       "      <td>1427</td>\n",
       "    </tr>\n",
       "    <tr>\n",
       "      <th>1</th>\n",
       "      <td>4659</td>\n",
       "      <td>2466</td>\n",
       "      <td>False</td>\n",
       "      <td>False</td>\n",
       "      <td>2754</td>\n",
       "      <td>1427</td>\n",
       "    </tr>\n",
       "    <tr>\n",
       "      <th>2</th>\n",
       "      <td>4659</td>\n",
       "      <td>902</td>\n",
       "      <td>False</td>\n",
       "      <td>False</td>\n",
       "      <td>347</td>\n",
       "      <td>1627</td>\n",
       "    </tr>\n",
       "    <tr>\n",
       "      <th>3</th>\n",
       "      <td>4659</td>\n",
       "      <td>2466</td>\n",
       "      <td>True</td>\n",
       "      <td>False</td>\n",
       "      <td>933</td>\n",
       "      <td>1427</td>\n",
       "    </tr>\n",
       "    <tr>\n",
       "      <th>4</th>\n",
       "      <td>4659</td>\n",
       "      <td>902</td>\n",
       "      <td>False</td>\n",
       "      <td>False</td>\n",
       "      <td>847</td>\n",
       "      <td>1827</td>\n",
       "    </tr>\n",
       "  </tbody>\n",
       "</table>\n",
       "</div>"
      ],
      "text/plain": [
       "   gender  race  signs_of_mental_illness  body_camera  a_type  s_type\n",
       "0    4659    92                     True        False    2754    1427\n",
       "1    4659  2466                    False        False    2754    1427\n",
       "2    4659   902                    False        False     347    1627\n",
       "3    4659  2466                     True        False     933    1427\n",
       "4    4659   902                    False        False     847    1827"
      ]
     },
     "execution_count": 28,
     "metadata": {},
     "output_type": "execute_result"
    }
   ],
   "source": [
    "X_copy = X.copy()\n",
    "for feature in X.columns[cat_features_mask]: \n",
    "    for name, count in X[feature].value_counts().items():\n",
    "        X[feature].replace(name, count, inplace=True)\n",
    "X.head(5)"
   ]
  },
  {
   "cell_type": "code",
   "execution_count": 29,
   "metadata": {},
   "outputs": [
    {
     "data": {
      "text/html": [
       "<div>\n",
       "<style scoped>\n",
       "    .dataframe tbody tr th:only-of-type {\n",
       "        vertical-align: middle;\n",
       "    }\n",
       "\n",
       "    .dataframe tbody tr th {\n",
       "        vertical-align: top;\n",
       "    }\n",
       "\n",
       "    .dataframe thead th {\n",
       "        text-align: right;\n",
       "    }\n",
       "</style>\n",
       "<table border=\"1\" class=\"dataframe\">\n",
       "  <thead>\n",
       "    <tr style=\"text-align: right;\">\n",
       "      <th></th>\n",
       "      <th>0</th>\n",
       "      <th>1</th>\n",
       "      <th>2</th>\n",
       "      <th>3</th>\n",
       "      <th>4</th>\n",
       "      <th>5</th>\n",
       "      <th>6</th>\n",
       "      <th>7</th>\n",
       "      <th>8</th>\n",
       "      <th>9</th>\n",
       "      <th>10</th>\n",
       "    </tr>\n",
       "  </thead>\n",
       "  <tbody>\n",
       "    <tr>\n",
       "      <th>0</th>\n",
       "      <td>1.0</td>\n",
       "      <td>0.0</td>\n",
       "      <td>0.0</td>\n",
       "      <td>0.0</td>\n",
       "      <td>0.0</td>\n",
       "      <td>0.0</td>\n",
       "      <td>1.0</td>\n",
       "      <td>0.0</td>\n",
       "      <td>0.0</td>\n",
       "      <td>0.0</td>\n",
       "      <td>0.0</td>\n",
       "    </tr>\n",
       "    <tr>\n",
       "      <th>1</th>\n",
       "      <td>1.0</td>\n",
       "      <td>0.0</td>\n",
       "      <td>0.0</td>\n",
       "      <td>0.0</td>\n",
       "      <td>0.0</td>\n",
       "      <td>1.0</td>\n",
       "      <td>1.0</td>\n",
       "      <td>0.0</td>\n",
       "      <td>0.0</td>\n",
       "      <td>0.0</td>\n",
       "      <td>0.0</td>\n",
       "    </tr>\n",
       "    <tr>\n",
       "      <th>2</th>\n",
       "      <td>1.0</td>\n",
       "      <td>0.0</td>\n",
       "      <td>1.0</td>\n",
       "      <td>0.0</td>\n",
       "      <td>0.0</td>\n",
       "      <td>0.0</td>\n",
       "      <td>0.0</td>\n",
       "      <td>0.0</td>\n",
       "      <td>1.0</td>\n",
       "      <td>1.0</td>\n",
       "      <td>0.0</td>\n",
       "    </tr>\n",
       "    <tr>\n",
       "      <th>3</th>\n",
       "      <td>1.0</td>\n",
       "      <td>0.0</td>\n",
       "      <td>0.0</td>\n",
       "      <td>0.0</td>\n",
       "      <td>0.0</td>\n",
       "      <td>1.0</td>\n",
       "      <td>0.0</td>\n",
       "      <td>1.0</td>\n",
       "      <td>0.0</td>\n",
       "      <td>0.0</td>\n",
       "      <td>0.0</td>\n",
       "    </tr>\n",
       "    <tr>\n",
       "      <th>4</th>\n",
       "      <td>1.0</td>\n",
       "      <td>0.0</td>\n",
       "      <td>1.0</td>\n",
       "      <td>0.0</td>\n",
       "      <td>0.0</td>\n",
       "      <td>0.0</td>\n",
       "      <td>0.0</td>\n",
       "      <td>0.0</td>\n",
       "      <td>0.0</td>\n",
       "      <td>0.0</td>\n",
       "      <td>1.0</td>\n",
       "    </tr>\n",
       "  </tbody>\n",
       "</table>\n",
       "</div>"
      ],
      "text/plain": [
       "     0    1    2    3    4    5    6    7    8    9   10\n",
       "0  1.0  0.0  0.0  0.0  0.0  0.0  1.0  0.0  0.0  0.0  0.0\n",
       "1  1.0  0.0  0.0  0.0  0.0  1.0  1.0  0.0  0.0  0.0  0.0\n",
       "2  1.0  0.0  1.0  0.0  0.0  0.0  0.0  0.0  1.0  1.0  0.0\n",
       "3  1.0  0.0  0.0  0.0  0.0  1.0  0.0  1.0  0.0  0.0  0.0\n",
       "4  1.0  0.0  1.0  0.0  0.0  0.0  0.0  0.0  0.0  0.0  1.0"
      ]
     },
     "execution_count": 29,
     "metadata": {},
     "output_type": "execute_result"
    }
   ],
   "source": [
    "enc = preprocessing.OneHotEncoder(sparse=False, drop='first')\n",
    "X_cat = enc.fit_transform(X_copy[X_copy.columns[cat_features_mask]])\n",
    "X_cat = pd.DataFrame(data=X_cat)\n",
    "X_cat.head(5)"
   ]
  },
  {
   "cell_type": "code",
   "execution_count": 30,
   "metadata": {},
   "outputs": [],
   "source": [
    "y = pd.DataFrame(y)"
   ]
  },
  {
   "cell_type": "markdown",
   "metadata": {},
   "source": [
    "#### Let's split the data for a train and a test:"
   ]
  },
  {
   "cell_type": "code",
   "execution_count": 31,
   "metadata": {},
   "outputs": [],
   "source": [
    "train_share = 0.7\n",
    "train_part_len = int(train_share * df.shape[0])\n",
    "X_train = X_cat.values[:train_part_len, :]\n",
    "X_valid = X_cat.values[train_part_len:, :]\n",
    "y_train = y.values[:train_part_len]\n",
    "y_valid = y.values[train_part_len:]"
   ]
  },
  {
   "cell_type": "markdown",
   "metadata": {},
   "source": [
    "## LogisticRegression:"
   ]
  },
  {
   "cell_type": "code",
   "execution_count": 32,
   "metadata": {},
   "outputs": [
    {
     "name": "stderr",
     "output_type": "stream",
     "text": [
      "/Users/daniilseremetev/opt/anaconda3/lib/python3.7/site-packages/sklearn/utils/validation.py:760: DataConversionWarning: A column-vector y was passed when a 1d array was expected. Please change the shape of y to (n_samples, ), for example using ravel().\n",
      "  y = column_or_1d(y, warn=True)\n"
     ]
    }
   ],
   "source": [
    "clf = LogisticRegression(random_state=0).fit(X_train, y_train)\n",
    "clf_pred = clf.predict(X_valid)"
   ]
  },
  {
   "cell_type": "markdown",
   "metadata": {},
   "source": [
    "#### See metrics for the LogisticRegression and for cross-validation:"
   ]
  },
  {
   "cell_type": "code",
   "execution_count": 33,
   "metadata": {},
   "outputs": [
    {
     "name": "stdout",
     "output_type": "stream",
     "text": [
      "RMSE: 0.5862103817605492 ROC_AUC_score: 0.6241256520653664 acuracy score: 0.6563573883161512 precision score: 0.7698154180238871 recall score: 0.7111334002006018\n"
     ]
    }
   ],
   "source": [
    "metrics(y_valid, clf_pred)"
   ]
  },
  {
   "cell_type": "code",
   "execution_count": 34,
   "metadata": {},
   "outputs": [
    {
     "data": {
      "text/plain": [
       "<sklearn.metrics._plot.roc_curve.RocCurveDisplay at 0x7f9a745afc50>"
      ]
     },
     "execution_count": 34,
     "metadata": {},
     "output_type": "execute_result"
    },
    {
     "data": {
      "image/png": "[encoded data removed]",
      "text/plain": [
       "<Figure size 432x288 with 1 Axes>"
      ]
     },
     "metadata": {},
     "output_type": "display_data"
    }
   ],
   "source": [
    "plot_roc_curve(clf, X_valid, y_valid) "
   ]
  },
  {
   "cell_type": "code",
   "execution_count": 35,
   "metadata": {},
   "outputs": [
    {
     "data": {
      "text/plain": [
       "0.6563573883161512"
      ]
     },
     "execution_count": 35,
     "metadata": {},
     "output_type": "execute_result"
    }
   ],
   "source": [
    "accuracy_score(y_valid, clf_pred)"
   ]
  },
  {
   "cell_type": "markdown",
   "metadata": {},
   "source": [
    "## Logistic Regression with Regularization and Cross Validation"
   ]
  },
  {
   "cell_type": "markdown",
   "metadata": {},
   "source": [
    "### L1"
   ]
  },
  {
   "cell_type": "code",
   "execution_count": 36,
   "metadata": {},
   "outputs": [
    {
     "name": "stderr",
     "output_type": "stream",
     "text": [
      "/Users/daniilseremetev/opt/anaconda3/lib/python3.7/site-packages/sklearn/utils/validation.py:760: DataConversionWarning: A column-vector y was passed when a 1d array was expected. Please change the shape of y to (n_samples, ), for example using ravel().\n",
      "  y = column_or_1d(y, warn=True)\n"
     ]
    },
    {
     "name": "stdout",
     "output_type": "stream",
     "text": [
      "RMSE: 0.6035405275413406 ROC_AUC_score: 0.6238354802398463 acuracy score: 0.6357388316151202 precision score: 0.7776456599286563 recall score: 0.6559679037111334\n"
     ]
    }
   ],
   "source": [
    "clfCV_l1 = LogisticRegressionCV(random_state=0, cv=5, penalty='l1', solver='saga').fit(X_train, y_train)\n",
    "clfCV_l1_pred = clfCV_l1.predict(X_valid)\n",
    "metrics(y_valid, clfCV_l1_pred)"
   ]
  },
  {
   "cell_type": "markdown",
   "metadata": {},
   "source": [
    "### L2"
   ]
  },
  {
   "cell_type": "code",
   "execution_count": 37,
   "metadata": {},
   "outputs": [
    {
     "name": "stderr",
     "output_type": "stream",
     "text": [
      "/Users/daniilseremetev/opt/anaconda3/lib/python3.7/site-packages/sklearn/utils/validation.py:760: DataConversionWarning: A column-vector y was passed when a 1d array was expected. Please change the shape of y to (n_samples, ), for example using ravel().\n",
      "  y = column_or_1d(y, warn=True)\n"
     ]
    },
    {
     "name": "stdout",
     "output_type": "stream",
     "text": [
      "RMSE: 0.596092660985773 ROC_AUC_score: 0.6268138476565066 acuracy score: 0.6446735395189004 precision score: 0.7771362586605081 recall score: 0.675025075225677\n"
     ]
    }
   ],
   "source": [
    "clfCV_l2 = LogisticRegressionCV(random_state=0, cv=5, penalty='l2', solver='saga').fit(X_train, y_train)\n",
    "clfCV_l2_pred = clfCV_l2.predict(X_valid)\n",
    "metrics(y_valid, clfCV_l2_pred)"
   ]
  },
  {
   "cell_type": "markdown",
   "metadata": {},
   "source": [
    "### Elastic Net"
   ]
  },
  {
   "cell_type": "code",
   "execution_count": 38,
   "metadata": {},
   "outputs": [
    {
     "name": "stderr",
     "output_type": "stream",
     "text": [
      "/Users/daniilseremetev/opt/anaconda3/lib/python3.7/site-packages/sklearn/utils/validation.py:760: DataConversionWarning: A column-vector y was passed when a 1d array was expected. Please change the shape of y to (n_samples, ), for example using ravel().\n",
      "  y = column_or_1d(y, warn=True)\n"
     ]
    },
    {
     "name": "stdout",
     "output_type": "stream",
     "text": [
      "RMSE: 0.6035405275413406 ROC_AUC_score: 0.6238354802398463 acuracy score: 0.6357388316151202 precision score: 0.7776456599286563 recall score: 0.6559679037111334\n",
      "None\n"
     ]
    }
   ],
   "source": [
    "clfCV_el = LogisticRegressionCV(random_state=0, cv=5, penalty='elasticnet', solver='saga', l1_ratios=list(np.linspace(0,0.5,20))).fit(X_train, y_train)\n",
    "clfCV_el_pred = clfCV_el.predict(X_valid)\n",
    "print(metrics(y_valid, clfCV_el_pred))"
   ]
  },
  {
   "cell_type": "markdown",
   "metadata": {},
   "source": [
    "# Random Forest Regressor"
   ]
  },
  {
   "cell_type": "code",
   "execution_count": 39,
   "metadata": {},
   "outputs": [],
   "source": [
    "from sklearn.ensemble import RandomForestRegressor"
   ]
  },
  {
   "cell_type": "code",
   "execution_count": 40,
   "metadata": {},
   "outputs": [],
   "source": [
    "#forest = RandomForestRegressor(n_estimators=10, random_state=17 )"
   ]
  },
  {
   "cell_type": "code",
   "execution_count": 41,
   "metadata": {},
   "outputs": [],
   "source": [
    "#forest.fit(X_train, y_train);\n",
    "#forest_valid_pred = forest.predict(X_valid)\n",
    "#metrics_tree(y_valid, forest_valid_pred)"
   ]
  },
  {
   "cell_type": "code",
   "execution_count": 42,
   "metadata": {},
   "outputs": [],
   "source": [
    "from sklearn.ensemble import RandomForestClassifier"
   ]
  },
  {
   "cell_type": "code",
   "execution_count": 43,
   "metadata": {},
   "outputs": [
    {
     "name": "stdout",
     "output_type": "stream",
     "text": [
      "RMSE: 0.5902995919424497 ROC_AUC_score: 0.6034993627169719 acuracy score: 0.6515463917525773 precision score: 0.7520576131687243 recall score: 0.7331995987963892\n"
     ]
    },
    {
     "name": "stderr",
     "output_type": "stream",
     "text": [
      "/Users/daniilseremetev/opt/anaconda3/lib/python3.7/site-packages/ipykernel_launcher.py:2: DataConversionWarning: A column-vector y was passed when a 1d array was expected. Please change the shape of y to (n_samples,), for example using ravel().\n",
      "  \n"
     ]
    }
   ],
   "source": [
    "forest_c = RandomForestClassifier(n_estimators=10, random_state=17 )\n",
    "forest_c.fit(X_train, y_train);\n",
    "forest_c_valid_pred = forest_c.predict(X_valid)\n",
    "metrics(y_valid, forest_c_valid_pred)"
   ]
  },
  {
   "cell_type": "markdown",
   "metadata": {},
   "source": [
    "#### The quality become better a litle, but we should choose hyperparameters:"
   ]
  },
  {
   "cell_type": "markdown",
   "metadata": {},
   "source": [
    "#### GridSearchCV will find optimal ones:"
   ]
  },
  {
   "cell_type": "code",
   "execution_count": 44,
   "metadata": {},
   "outputs": [],
   "source": [
    "from sklearn.metrics import make_scorer"
   ]
  },
  {
   "cell_type": "code",
   "execution_count": 45,
   "metadata": {},
   "outputs": [],
   "source": [
    "tree_params = {'max_depth':np.arange(1, 10),\n",
    "              'n_estimators': np.arange(4, 15),\n",
    "              'min_samples_leaf': [2,3,4],\n",
    "              'min_samples_split': [1,2,3,4]}\n",
    "scoring = {'AUC': 'roc_auc', 'Accuracy': make_scorer(accuracy_score), 'Precission': make_scorer(precision_score), 'Recall': make_scorer(recall_score)}"
   ]
  },
  {
   "cell_type": "code",
   "execution_count": 46,
   "metadata": {},
   "outputs": [],
   "source": [
    "f_grid = GridSearchCV(RandomForestClassifier(), tree_params,\n",
    "                      scoring=scoring, cv=5, n_jobs=-1, refit='AUC')"
   ]
  },
  {
   "cell_type": "code",
   "execution_count": 47,
   "metadata": {},
   "outputs": [
    {
     "name": "stderr",
     "output_type": "stream",
     "text": [
      "/Users/daniilseremetev/opt/anaconda3/lib/python3.7/site-packages/sklearn/model_selection/_search.py:739: DataConversionWarning: A column-vector y was passed when a 1d array was expected. Please change the shape of y to (n_samples,), for example using ravel().\n",
      "  self.best_estimator_.fit(X, y, **fit_params)\n"
     ]
    },
    {
     "data": {
      "text/plain": [
       "GridSearchCV(cv=5, error_score=nan,\n",
       "             estimator=RandomForestClassifier(bootstrap=True, ccp_alpha=0.0,\n",
       "                                              class_weight=None,\n",
       "                                              criterion='gini', max_depth=None,\n",
       "                                              max_features='auto',\n",
       "                                              max_leaf_nodes=None,\n",
       "                                              max_samples=None,\n",
       "                                              min_impurity_decrease=0.0,\n",
       "                                              min_impurity_split=None,\n",
       "                                              min_samples_leaf=1,\n",
       "                                              min_samples_split=2,\n",
       "                                              min_weight_fraction_leaf=0.0,\n",
       "                                              n_estimators=100, n_jobs=None,...\n",
       "             param_grid={'max_depth': array([1, 2, 3, 4, 5, 6, 7, 8, 9]),\n",
       "                         'min_samples_leaf': [2, 3, 4],\n",
       "                         'min_samples_split': [1, 2, 3, 4],\n",
       "                         'n_estimators': array([ 4,  5,  6,  7,  8,  9, 10, 11, 12, 13, 14])},\n",
       "             pre_dispatch='2*n_jobs', refit='AUC', return_train_score=False,\n",
       "             scoring={'AUC': 'roc_auc', 'Accuracy': make_scorer(accuracy_score),\n",
       "                      'Precission': make_scorer(precision_score),\n",
       "                      'Recall': make_scorer(recall_score)},\n",
       "             verbose=0)"
      ]
     },
     "execution_count": 47,
     "metadata": {},
     "output_type": "execute_result"
    }
   ],
   "source": [
    "f_grid.fit(X_train, y_train)"
   ]
  },
  {
   "cell_type": "code",
   "execution_count": 48,
   "metadata": {},
   "outputs": [],
   "source": [
    "f_grid_pred = f_grid.predict(X_valid)"
   ]
  },
  {
   "cell_type": "code",
   "execution_count": 49,
   "metadata": {},
   "outputs": [
    {
     "name": "stdout",
     "output_type": "stream",
     "text": [
      "RMSE: 0.5902995919424497 ROC_AUC_score: 0.6034993627169719 acuracy score: 0.6515463917525773 precision score: 0.7520576131687243 recall score: 0.7331995987963892\n"
     ]
    }
   ],
   "source": [
    "metrics(y_valid, forest_c_valid_pred)"
   ]
  },
  {
   "cell_type": "code",
   "execution_count": 50,
   "metadata": {},
   "outputs": [
    {
     "name": "stdout",
     "output_type": "stream",
     "text": [
      "RMSE: 0.5920434645509786 ROC_AUC_score: 0.6244223938190117 acuracy score: 0.6494845360824743 precision score: 0.7726763717805151 recall score: 0.6920762286860582\n"
     ]
    }
   ],
   "source": [
    "metrics(y_valid, f_grid_pred)"
   ]
  },
  {
   "cell_type": "markdown",
   "metadata": {},
   "source": [
    "#### For now, we achive 0.62 of ROC_AUC_score and 0.6 for RMSE.  \n",
    "  \n",
    "  #### The next plan:  \n",
    "1. Try to echance the model   \n",
    "2. Make deneralized results"
   ]
  },
  {
   "cell_type": "markdown",
   "metadata": {},
   "source": [
    "# Adaboosting"
   ]
  },
  {
   "cell_type": "code",
   "execution_count": 51,
   "metadata": {},
   "outputs": [],
   "source": [
    "# Import DecisionTreeClassifier\n",
    "from sklearn.tree import DecisionTreeClassifier\n",
    "# Import AdaBoostClassifier\n",
    "from sklearn.ensemble import AdaBoostClassifier"
   ]
  },
  {
   "cell_type": "code",
   "execution_count": 52,
   "metadata": {},
   "outputs": [],
   "source": [
    "# Instantiate dt\n",
    "dt = DecisionTreeClassifier(max_depth=2, random_state=1)\n",
    "# Instantiate ada\n",
    "ada = AdaBoostClassifier(base_estimator=dt, n_estimators=180, random_state=1)"
   ]
  },
  {
   "cell_type": "code",
   "execution_count": 54,
   "metadata": {},
   "outputs": [
    {
     "name": "stderr",
     "output_type": "stream",
     "text": [
      "/Users/daniilseremetev/opt/anaconda3/lib/python3.7/site-packages/sklearn/utils/validation.py:760: DataConversionWarning: A column-vector y was passed when a 1d array was expected. Please change the shape of y to (n_samples, ), for example using ravel().\n",
      "  y = column_or_1d(y, warn=True)\n"
     ]
    }
   ],
   "source": [
    "# Fit ada to the training set\n",
    "ada.fit(X_train, y_train)\n",
    "\n",
    "# Compute the probabilities of obtaining the positive class\n",
    "y_pred_proba_ada = ada.predict(X_valid)"
   ]
  },
  {
   "cell_type": "code",
   "execution_count": 56,
   "metadata": {},
   "outputs": [
    {
     "name": "stdout",
     "output_type": "stream",
     "text": [
      "RMSE: 0.5773502691896257 ROC_AUC_score: 0.6263364328794243 acuracy score: 0.6666666666666666 precision score: 0.7683438155136268 recall score: 0.7352056168505516\n"
     ]
    }
   ],
   "source": [
    "# Evaluate test-set roc_auc_score\n",
    "metrics(y_valid, y_pred_proba_ada)"
   ]
  },
  {
   "cell_type": "code",
   "execution_count": 111,
   "metadata": {},
   "outputs": [
    {
     "data": {
      "text/plain": [
       "array([0.50199739, 0.50199739, 0.50193178, ..., 0.49775894, 0.50231344,\n",
       "       0.50231344])"
      ]
     },
     "execution_count": 111,
     "metadata": {},
     "output_type": "execute_result"
    }
   ],
   "source": [
    "y_pred_proba_ada"
   ]
  },
  {
   "cell_type": "code",
   "execution_count": null,
   "metadata": {},
   "outputs": [],
   "source": [
    "plot_roc_curve(ada, X_valid, y_valid) "
   ]
  },
  {
   "cell_type": "markdown",
   "metadata": {},
   "source": [
    "# Gradient Boosting"
   ]
  },
  {
   "cell_type": "code",
   "execution_count": 112,
   "metadata": {},
   "outputs": [],
   "source": [
    "from sklearn.ensemble import GradientBoostingRegressor\n",
    "\n",
    "# Instantiate gb\n",
    "gb = GradientBoostingRegressor(max_depth=4,\n",
    "                               n_estimators=200,\n",
    "                               random_state=2)"
   ]
  },
  {
   "cell_type": "code",
   "execution_count": 113,
   "metadata": {},
   "outputs": [
    {
     "name": "stderr",
     "output_type": "stream",
     "text": [
      "/Users/daniilseremetev/opt/anaconda3/lib/python3.7/site-packages/sklearn/ensemble/_gb.py:1454: DataConversionWarning: A column-vector y was passed when a 1d array was expected. Please change the shape of y to (n_samples, ), for example using ravel().\n",
      "  y = column_or_1d(y, warn=True)\n"
     ]
    }
   ],
   "source": [
    "# Fit gb to the training set\n",
    "gb.fit(X_train, y_train)\n",
    "\n",
    "# Predict test set labels\n",
    "y_pred_gb = gb.predict(X_valid)"
   ]
  },
  {
   "cell_type": "code",
   "execution_count": 116,
   "metadata": {},
   "outputs": [
    {
     "name": "stdout",
     "output_type": "stream",
     "text": [
      "RMSE: 0.46360547481121434 ROC_AUC_score: 0.6408132695028316\n"
     ]
    }
   ],
   "source": [
    "# Compute MSE\n",
    "mse_test = mean_squared_error(y_valid, y_pred_gb)\n",
    "mse_test\n",
    "metrics_tree(y_valid, y_pred_gb)"
   ]
  },
  {
   "cell_type": "code",
   "execution_count": 115,
   "metadata": {},
   "outputs": [
    {
     "data": {
      "text/plain": [
       "array([ 0.81566852,  0.81566852,  0.79440546, ..., -0.00883308,\n",
       "        0.84752684,  0.84752684])"
      ]
     },
     "execution_count": 115,
     "metadata": {},
     "output_type": "execute_result"
    }
   ],
   "source": [
    "y_pred_gb"
   ]
  },
  {
   "cell_type": "markdown",
   "metadata": {},
   "source": [
    "### Линейная классификация"
   ]
  },
  {
   "cell_type": "code",
   "execution_count": 126,
   "metadata": {},
   "outputs": [],
   "source": [
    "from sklearn.svm import SVC"
   ]
  },
  {
   "cell_type": "code",
   "execution_count": 128,
   "metadata": {},
   "outputs": [
    {
     "name": "stdout",
     "output_type": "stream",
     "text": [
      "RMSE: 0.6035405275413406 ROC_AUC_score: 0.6238354802398463 acuracy score: 0.6357388316151202 precision score: 0.7776456599286563 recall score: 0.6559679037111334\n"
     ]
    },
    {
     "name": "stderr",
     "output_type": "stream",
     "text": [
      "/Users/daniilseremetev/opt/anaconda3/lib/python3.7/site-packages/sklearn/utils/validation.py:760: DataConversionWarning: A column-vector y was passed when a 1d array was expected. Please change the shape of y to (n_samples, ), for example using ravel().\n",
      "  y = column_or_1d(y, warn=True)\n"
     ]
    }
   ],
   "source": [
    "svc = SVC(kernel='linear', C=1.0, random_state=1)\n",
    "\n",
    "svc.fit(X_train, y_train)\n",
    "svc_pred = svc.predict(X_valid)\n",
    "metrics(y_valid, svc_pred)"
   ]
  },
  {
   "cell_type": "code",
   "execution_count": 129,
   "metadata": {},
   "outputs": [
    {
     "data": {
      "text/plain": [
       "array([1, 1, 1, ..., 0, 1, 1])"
      ]
     },
     "execution_count": 129,
     "metadata": {},
     "output_type": "execute_result"
    }
   ],
   "source": [
    "svc_pred"
   ]
  },
  {
   "cell_type": "markdown",
   "metadata": {},
   "source": [
    "### Нелинейная классификация"
   ]
  },
  {
   "cell_type": "code",
   "execution_count": 132,
   "metadata": {},
   "outputs": [
    {
     "name": "stderr",
     "output_type": "stream",
     "text": [
      "/Users/daniilseremetev/opt/anaconda3/lib/python3.7/site-packages/sklearn/utils/validation.py:760: DataConversionWarning: A column-vector y was passed when a 1d array was expected. Please change the shape of y to (n_samples, ), for example using ravel().\n",
      "  y = column_or_1d(y, warn=True)\n"
     ]
    },
    {
     "name": "stdout",
     "output_type": "stream",
     "text": [
      "RMSE: 0.5983941856122689 ROC_AUC_score: 0.626578425232028 acuracy score: 0.6419243986254296 precision score: 0.7780373831775701 recall score: 0.6680040120361084\n"
     ]
    }
   ],
   "source": [
    "svm_rbf = SVC(kernel='rbf', random_state=1, gamma=0.10, C=10.0)\n",
    "svm_rbf.fit(X_train, y_train)\n",
    "\n",
    "svm_rbf_pred = svm_rbf.predict(X_valid)\n",
    "metrics(y_valid, svm_rbf_pred)"
   ]
  },
  {
   "cell_type": "code",
   "execution_count": 135,
   "metadata": {},
   "outputs": [],
   "source": [
    "from sklearn.neighbors import KNeighborsClassifier"
   ]
  },
  {
   "cell_type": "code",
   "execution_count": 147,
   "metadata": {},
   "outputs": [
    {
     "name": "stdout",
     "output_type": "stream",
     "text": [
      "RMSE: 0.5755618799601223 ROC_AUC_score: 0.5971506221721934 acuracy score: 0.6687285223367697 precision score: 0.7426955702167767 recall score: 0.7903711133400201\n"
     ]
    },
    {
     "name": "stderr",
     "output_type": "stream",
     "text": [
      "/Users/daniilseremetev/opt/anaconda3/lib/python3.7/site-packages/ipykernel_launcher.py:2: DataConversionWarning: A column-vector y was passed when a 1d array was expected. Please change the shape of y to (n_samples, ), for example using ravel().\n",
      "  \n"
     ]
    }
   ],
   "source": [
    "knn = KNeighborsClassifier()\n",
    "knn.fit(X_train, y_train)\n",
    "knn_pred = knn.predict(X_valid)\n",
    "metrics(y_valid, knn_pred)"
   ]
  },
  {
   "cell_type": "code",
   "execution_count": 142,
   "metadata": {},
   "outputs": [],
   "source": [
    "knn_params = {'n_neighbors': np.arange(1,16),\n",
    "              'weights': ['uniform', 'distance'],\n",
    "             'p': [1, 2]}"
   ]
  },
  {
   "cell_type": "code",
   "execution_count": 143,
   "metadata": {},
   "outputs": [],
   "source": [
    "knn_grid = GridSearchCV(KNeighborsClassifier(),knn_params, scoring=scoring, cv=5, n_jobs=-1, refit='AUC')"
   ]
  },
  {
   "cell_type": "code",
   "execution_count": 144,
   "metadata": {},
   "outputs": [
    {
     "name": "stderr",
     "output_type": "stream",
     "text": [
      "/Users/daniilseremetev/opt/anaconda3/lib/python3.7/site-packages/sklearn/model_selection/_search.py:739: DataConversionWarning: A column-vector y was passed when a 1d array was expected. Please change the shape of y to (n_samples, ), for example using ravel().\n",
      "  self.best_estimator_.fit(X, y, **fit_params)\n"
     ]
    },
    {
     "data": {
      "text/plain": [
       "GridSearchCV(cv=5, error_score=nan,\n",
       "             estimator=KNeighborsClassifier(algorithm='auto', leaf_size=30,\n",
       "                                            metric='minkowski',\n",
       "                                            metric_params=None, n_jobs=None,\n",
       "                                            n_neighbors=5, p=2,\n",
       "                                            weights='uniform'),\n",
       "             iid='deprecated', n_jobs=-1,\n",
       "             param_grid={'n_neighbors': array([ 1,  2,  3,  4,  5,  6,  7,  8,  9, 10, 11, 12, 13, 14, 15]),\n",
       "                         'p': [1, 2], 'weights': ['uniform', 'distance']},\n",
       "             pre_dispatch='2*n_jobs', refit='AUC', return_train_score=False,\n",
       "             scoring={'AUC': 'roc_auc', 'Accuracy': make_scorer(accuracy_score),\n",
       "                      'Precission': make_scorer(precision_score),\n",
       "                      'Recall': make_scorer(recall_score)},\n",
       "             verbose=0)"
      ]
     },
     "execution_count": 144,
     "metadata": {},
     "output_type": "execute_result"
    }
   ],
   "source": [
    "knn_grid.fit(X_train, y_train)"
   ]
  },
  {
   "cell_type": "code",
   "execution_count": 146,
   "metadata": {},
   "outputs": [
    {
     "name": "stdout",
     "output_type": "stream",
     "text": [
      "RMSE: 0.5707654473391751 ROC_AUC_score: 0.6023430553669742 acuracy score: 0.6742268041237114 precision score: 0.7455399061032864 recall score: 0.7963891675025075\n"
     ]
    }
   ],
   "source": [
    "knn_grid_pred = knn_grid.predict(X_valid)\n",
    "metrics(y_valid, knn_grid_pred)"
   ]
  }
 ],
 "metadata": {
  "kernelspec": {
   "display_name": "Python 3",
   "language": "python",
   "name": "python3"
  },
  "language_info": {
   "codemirror_mode": {
    "name": "ipython",
    "version": 3
   },
   "file_extension": ".py",
   "mimetype": "text/x-python",
   "name": "python",
   "nbconvert_exporter": "python",
   "pygments_lexer": "ipython3",
   "version": "3.7.6"
  }
 },
 "nbformat": 4,
 "nbformat_minor": 4
}
